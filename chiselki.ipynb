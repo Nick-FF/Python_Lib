{
  "nbformat": 4,
  "nbformat_minor": 0,
  "metadata": {
    "kernelspec": {
      "language": "python",
      "display_name": "Python 3",
      "name": "python3"
    },
    "language_info": {
      "name": "python",
      "version": "3.7.10",
      "mimetype": "text/x-python",
      "codemirror_mode": {
        "name": "ipython",
        "version": 3
      },
      "pygments_lexer": "ipython3",
      "nbconvert_exporter": "python",
      "file_extension": ".py"
    },
    "colab": {
      "name": "chiselki.ipynb",
      "provenance": [],
      "include_colab_link": true
    }
  },
  "cells": [
    {
      "cell_type": "markdown",
      "metadata": {
        "id": "view-in-github",
        "colab_type": "text"
      },
      "source": [
        "<a href=\"https://colab.research.google.com/github/Nick-FF/Python_Lib/blob/kursovoy/chiselki.ipynb\" target=\"_parent\"><img src=\"https://colab.research.google.com/assets/colab-badge.svg\" alt=\"Open In Colab\"/></a>"
      ]
    },
    {
      "cell_type": "code",
      "metadata": {
        "_uuid": "8f2839f25d086af736a60e9eeb907d3b93b6e0e5",
        "_cell_guid": "b1076dfc-b9ad-4769-8c92-a6c4dae69d19",
        "execution": {
          "iopub.status.busy": "2021-07-19T20:25:49.178919Z",
          "iopub.execute_input": "2021-07-19T20:25:49.179276Z",
          "iopub.status.idle": "2021-07-19T20:25:49.187061Z",
          "shell.execute_reply.started": "2021-07-19T20:25:49.179246Z",
          "shell.execute_reply": "2021-07-19T20:25:49.186365Z"
        },
        "trusted": true,
        "id": "KMLIdOlZURU2",
        "outputId": "1ed5a2db-4f30-432e-b89b-35f9cc390d1e"
      },
      "source": [
        "# This Python 3 environment comes with many helpful analytics libraries installed\n",
        "# It is defined by the kaggle/python Docker image: https://github.com/kaggle/docker-python\n",
        "# For example, here's several helpful packages to load\n",
        "\n",
        "import numpy as np # linear algebra\n",
        "import pandas as pd # data processing, CSV file I/O (e.g. pd.read_csv)\n",
        "\n",
        "# Input data files are available in the read-only \"../input/\" directory\n",
        "# For example, running this (by clicking run or pressing Shift+Enter) will list all files under the input directory\n",
        "\n",
        "import os\n",
        "for dirname, _, filenames in os.walk('/kaggle/input'):\n",
        "    for filename in filenames:\n",
        "        print(os.path.join(dirname, filename))\n",
        "\n",
        "# You can write up to 20GB to the current directory (/kaggle/working/) that gets preserved as output when you create a version using \"Save & Run All\" \n",
        "# You can also write temporary files to /kaggle/temp/, but they won't be saved outside of the current session"
      ],
      "execution_count": null,
      "outputs": [
        {
          "output_type": "stream",
          "text": [
            "/kaggle/input/real-estate-price-prediction-moscow/sample_submission.csv\n",
            "/kaggle/input/real-estate-price-prediction-moscow/train.csv\n",
            "/kaggle/input/real-estate-price-prediction-moscow/test.csv\n"
          ],
          "name": "stdout"
        }
      ]
    },
    {
      "cell_type": "code",
      "metadata": {
        "execution": {
          "iopub.status.busy": "2021-07-19T20:25:49.195360Z",
          "iopub.execute_input": "2021-07-19T20:25:49.196195Z",
          "iopub.status.idle": "2021-07-19T20:25:49.204696Z",
          "shell.execute_reply.started": "2021-07-19T20:25:49.196159Z",
          "shell.execute_reply": "2021-07-19T20:25:49.203911Z"
        },
        "trusted": true,
        "id": "BXW3Uq1TURU-"
      },
      "source": [
        "import numpy as np\n",
        "import pandas as pd\n",
        "import random\n",
        "\n",
        "from sklearn.model_selection import train_test_split, cross_val_score\n",
        "from sklearn.preprocessing import StandardScaler, RobustScaler\n",
        "from sklearn.ensemble import RandomForestRegressor\n",
        "from sklearn.metrics import r2_score as r2\n",
        "from sklearn.model_selection import KFold, GridSearchCV\n",
        "\n",
        "from datetime import datetime\n",
        "\n",
        "import matplotlib\n",
        "import matplotlib.pyplot as plt\n",
        "import seaborn as sns\n",
        "%matplotlib inline"
      ],
      "execution_count": null,
      "outputs": []
    },
    {
      "cell_type": "code",
      "metadata": {
        "execution": {
          "iopub.status.busy": "2021-07-19T20:25:49.254594Z",
          "iopub.execute_input": "2021-07-19T20:25:49.255169Z",
          "iopub.status.idle": "2021-07-19T20:25:49.259005Z",
          "shell.execute_reply.started": "2021-07-19T20:25:49.255135Z",
          "shell.execute_reply": "2021-07-19T20:25:49.257935Z"
        },
        "trusted": true,
        "id": "WmQ9_RJEURU_"
      },
      "source": [
        "import warnings\n",
        "warnings.filterwarnings('ignore')"
      ],
      "execution_count": null,
      "outputs": []
    },
    {
      "cell_type": "code",
      "metadata": {
        "execution": {
          "iopub.status.busy": "2021-07-19T20:25:49.288881Z",
          "iopub.execute_input": "2021-07-19T20:25:49.289383Z",
          "iopub.status.idle": "2021-07-19T20:25:49.293739Z",
          "shell.execute_reply.started": "2021-07-19T20:25:49.289351Z",
          "shell.execute_reply": "2021-07-19T20:25:49.292665Z"
        },
        "trusted": true,
        "id": "eh-E8xBwURVA"
      },
      "source": [
        "matplotlib.rcParams.update({'font.size': 14})"
      ],
      "execution_count": null,
      "outputs": []
    },
    {
      "cell_type": "markdown",
      "metadata": {
        "id": "_ZYonru_URVB"
      },
      "source": [
        "Функция для подсчета метрики"
      ]
    },
    {
      "cell_type": "code",
      "metadata": {
        "execution": {
          "iopub.status.busy": "2021-07-19T20:25:49.307108Z",
          "iopub.execute_input": "2021-07-19T20:25:49.307655Z",
          "iopub.status.idle": "2021-07-19T20:25:49.315112Z",
          "shell.execute_reply.started": "2021-07-19T20:25:49.307609Z",
          "shell.execute_reply": "2021-07-19T20:25:49.314287Z"
        },
        "trusted": true,
        "id": "XvGu7LCaURVB"
      },
      "source": [
        "def evaluate_preds(train_true_values, train_pred_values, test_true_values, test_pred_values):\n",
        "    print(\"Train R2:\\t\" + str(round(r2(train_true_values, train_pred_values), 3)))\n",
        "    print(\"Test R2:\\t\" + str(round(r2(test_true_values, test_pred_values), 3)))\n",
        "    \n",
        "    plt.figure(figsize=(18,10))\n",
        "    \n",
        "    plt.subplot(121)\n",
        "    sns.scatterplot(x=train_pred_values, y=train_true_values)\n",
        "    plt.xlabel('Predicted values')\n",
        "    plt.ylabel('True values')\n",
        "    plt.title('Train sample prediction')\n",
        "    \n",
        "    plt.subplot(122)\n",
        "    sns.scatterplot(x=test_pred_values, y=test_true_values)\n",
        "    plt.xlabel('Predicted values')\n",
        "    plt.ylabel('True values')\n",
        "    plt.title('Test sample prediction')\n",
        "\n",
        "    plt.show()"
      ],
      "execution_count": null,
      "outputs": []
    },
    {
      "cell_type": "code",
      "metadata": {
        "execution": {
          "iopub.status.busy": "2021-07-19T20:25:49.326814Z",
          "iopub.execute_input": "2021-07-19T20:25:49.327154Z",
          "iopub.status.idle": "2021-07-19T20:25:49.330793Z",
          "shell.execute_reply.started": "2021-07-19T20:25:49.327125Z",
          "shell.execute_reply": "2021-07-19T20:25:49.330084Z"
        },
        "trusted": true,
        "id": "PaOnYFU6URVC"
      },
      "source": [
        "TRAIN_DATASET_PATH = '../input/real-estate-price-prediction-moscow/train.csv'\n",
        "TEST_DATASET_PATH = '../input/real-estate-price-prediction-moscow/test.csv'"
      ],
      "execution_count": null,
      "outputs": []
    },
    {
      "cell_type": "code",
      "metadata": {
        "execution": {
          "iopub.status.busy": "2021-07-19T20:25:49.365861Z",
          "iopub.execute_input": "2021-07-19T20:25:49.366507Z",
          "iopub.status.idle": "2021-07-19T20:25:49.418424Z",
          "shell.execute_reply.started": "2021-07-19T20:25:49.366467Z",
          "shell.execute_reply": "2021-07-19T20:25:49.417430Z"
        },
        "trusted": true,
        "id": "nx8gnBtoURVD",
        "outputId": "7b024121-4673-4790-a1a5-b8c22229a3d5"
      },
      "source": [
        "train_df = pd.read_csv(TRAIN_DATASET_PATH)\n",
        "train_df.tail()"
      ],
      "execution_count": null,
      "outputs": [
        {
          "output_type": "execute_result",
          "data": {
            "text/plain": [
              "         Id  DistrictId  Rooms     Square  LifeSquare  KitchenSquare  Floor  \\\n",
              "9995   1260          61    2.0  49.090728   33.272626            6.0      3   \n",
              "9996  16265          27    2.0  64.307684   37.038420            9.0     13   \n",
              "9997   2795         178    1.0  29.648057   16.555363            5.0      3   \n",
              "9998  14561          21    1.0  32.330292   22.326870            5.0      3   \n",
              "9999   7202          94    1.0  35.815476   22.301367            6.0      9   \n",
              "\n",
              "      HouseFloor  HouseYear  Ecology_1 Ecology_2 Ecology_3  Social_1  \\\n",
              "9995        12.0       1981   0.300323         B         B        52   \n",
              "9996         0.0       1977   0.072158         B         B         2   \n",
              "9997         5.0       1958   0.460556         B         B        20   \n",
              "9998         9.0       1969   0.194489         B         B        47   \n",
              "9999         9.0       1975   0.127376         B         B        43   \n",
              "\n",
              "      Social_2  Social_3  Healthcare_1  Helthcare_2  Shops_1 Shops_2  \\\n",
              "9995     10311         6           NaN            1        9       B   \n",
              "9996       629         1           NaN            0        0       A   \n",
              "9997      4386        14           NaN            1        5       B   \n",
              "9998      8004         3         125.0            3        5       B   \n",
              "9999      8429         3           NaN            3        9       B   \n",
              "\n",
              "              Price  \n",
              "9995  119367.455796  \n",
              "9996  199715.148807  \n",
              "9997  165953.912580  \n",
              "9998  171842.411855  \n",
              "9999  177685.627486  "
            ],
            "text/html": [
              "<div>\n",
              "<style scoped>\n",
              "    .dataframe tbody tr th:only-of-type {\n",
              "        vertical-align: middle;\n",
              "    }\n",
              "\n",
              "    .dataframe tbody tr th {\n",
              "        vertical-align: top;\n",
              "    }\n",
              "\n",
              "    .dataframe thead th {\n",
              "        text-align: right;\n",
              "    }\n",
              "</style>\n",
              "<table border=\"1\" class=\"dataframe\">\n",
              "  <thead>\n",
              "    <tr style=\"text-align: right;\">\n",
              "      <th></th>\n",
              "      <th>Id</th>\n",
              "      <th>DistrictId</th>\n",
              "      <th>Rooms</th>\n",
              "      <th>Square</th>\n",
              "      <th>LifeSquare</th>\n",
              "      <th>KitchenSquare</th>\n",
              "      <th>Floor</th>\n",
              "      <th>HouseFloor</th>\n",
              "      <th>HouseYear</th>\n",
              "      <th>Ecology_1</th>\n",
              "      <th>Ecology_2</th>\n",
              "      <th>Ecology_3</th>\n",
              "      <th>Social_1</th>\n",
              "      <th>Social_2</th>\n",
              "      <th>Social_3</th>\n",
              "      <th>Healthcare_1</th>\n",
              "      <th>Helthcare_2</th>\n",
              "      <th>Shops_1</th>\n",
              "      <th>Shops_2</th>\n",
              "      <th>Price</th>\n",
              "    </tr>\n",
              "  </thead>\n",
              "  <tbody>\n",
              "    <tr>\n",
              "      <th>9995</th>\n",
              "      <td>1260</td>\n",
              "      <td>61</td>\n",
              "      <td>2.0</td>\n",
              "      <td>49.090728</td>\n",
              "      <td>33.272626</td>\n",
              "      <td>6.0</td>\n",
              "      <td>3</td>\n",
              "      <td>12.0</td>\n",
              "      <td>1981</td>\n",
              "      <td>0.300323</td>\n",
              "      <td>B</td>\n",
              "      <td>B</td>\n",
              "      <td>52</td>\n",
              "      <td>10311</td>\n",
              "      <td>6</td>\n",
              "      <td>NaN</td>\n",
              "      <td>1</td>\n",
              "      <td>9</td>\n",
              "      <td>B</td>\n",
              "      <td>119367.455796</td>\n",
              "    </tr>\n",
              "    <tr>\n",
              "      <th>9996</th>\n",
              "      <td>16265</td>\n",
              "      <td>27</td>\n",
              "      <td>2.0</td>\n",
              "      <td>64.307684</td>\n",
              "      <td>37.038420</td>\n",
              "      <td>9.0</td>\n",
              "      <td>13</td>\n",
              "      <td>0.0</td>\n",
              "      <td>1977</td>\n",
              "      <td>0.072158</td>\n",
              "      <td>B</td>\n",
              "      <td>B</td>\n",
              "      <td>2</td>\n",
              "      <td>629</td>\n",
              "      <td>1</td>\n",
              "      <td>NaN</td>\n",
              "      <td>0</td>\n",
              "      <td>0</td>\n",
              "      <td>A</td>\n",
              "      <td>199715.148807</td>\n",
              "    </tr>\n",
              "    <tr>\n",
              "      <th>9997</th>\n",
              "      <td>2795</td>\n",
              "      <td>178</td>\n",
              "      <td>1.0</td>\n",
              "      <td>29.648057</td>\n",
              "      <td>16.555363</td>\n",
              "      <td>5.0</td>\n",
              "      <td>3</td>\n",
              "      <td>5.0</td>\n",
              "      <td>1958</td>\n",
              "      <td>0.460556</td>\n",
              "      <td>B</td>\n",
              "      <td>B</td>\n",
              "      <td>20</td>\n",
              "      <td>4386</td>\n",
              "      <td>14</td>\n",
              "      <td>NaN</td>\n",
              "      <td>1</td>\n",
              "      <td>5</td>\n",
              "      <td>B</td>\n",
              "      <td>165953.912580</td>\n",
              "    </tr>\n",
              "    <tr>\n",
              "      <th>9998</th>\n",
              "      <td>14561</td>\n",
              "      <td>21</td>\n",
              "      <td>1.0</td>\n",
              "      <td>32.330292</td>\n",
              "      <td>22.326870</td>\n",
              "      <td>5.0</td>\n",
              "      <td>3</td>\n",
              "      <td>9.0</td>\n",
              "      <td>1969</td>\n",
              "      <td>0.194489</td>\n",
              "      <td>B</td>\n",
              "      <td>B</td>\n",
              "      <td>47</td>\n",
              "      <td>8004</td>\n",
              "      <td>3</td>\n",
              "      <td>125.0</td>\n",
              "      <td>3</td>\n",
              "      <td>5</td>\n",
              "      <td>B</td>\n",
              "      <td>171842.411855</td>\n",
              "    </tr>\n",
              "    <tr>\n",
              "      <th>9999</th>\n",
              "      <td>7202</td>\n",
              "      <td>94</td>\n",
              "      <td>1.0</td>\n",
              "      <td>35.815476</td>\n",
              "      <td>22.301367</td>\n",
              "      <td>6.0</td>\n",
              "      <td>9</td>\n",
              "      <td>9.0</td>\n",
              "      <td>1975</td>\n",
              "      <td>0.127376</td>\n",
              "      <td>B</td>\n",
              "      <td>B</td>\n",
              "      <td>43</td>\n",
              "      <td>8429</td>\n",
              "      <td>3</td>\n",
              "      <td>NaN</td>\n",
              "      <td>3</td>\n",
              "      <td>9</td>\n",
              "      <td>B</td>\n",
              "      <td>177685.627486</td>\n",
              "    </tr>\n",
              "  </tbody>\n",
              "</table>\n",
              "</div>"
            ]
          },
          "metadata": {
            "tags": []
          },
          "execution_count": 475
        }
      ]
    },
    {
      "cell_type": "code",
      "metadata": {
        "execution": {
          "iopub.status.busy": "2021-07-19T20:25:49.419950Z",
          "iopub.execute_input": "2021-07-19T20:25:49.420280Z",
          "iopub.status.idle": "2021-07-19T20:25:49.428745Z",
          "shell.execute_reply.started": "2021-07-19T20:25:49.420247Z",
          "shell.execute_reply": "2021-07-19T20:25:49.427483Z"
        },
        "trusted": true,
        "id": "KZNP1LqrURVD",
        "outputId": "158e8418-336c-4b88-ccdf-19d0ae6d9e36"
      },
      "source": [
        "train_df.dtypes"
      ],
      "execution_count": null,
      "outputs": [
        {
          "output_type": "execute_result",
          "data": {
            "text/plain": [
              "Id                 int64\n",
              "DistrictId         int64\n",
              "Rooms            float64\n",
              "Square           float64\n",
              "LifeSquare       float64\n",
              "KitchenSquare    float64\n",
              "Floor              int64\n",
              "HouseFloor       float64\n",
              "HouseYear          int64\n",
              "Ecology_1        float64\n",
              "Ecology_2         object\n",
              "Ecology_3         object\n",
              "Social_1           int64\n",
              "Social_2           int64\n",
              "Social_3           int64\n",
              "Healthcare_1     float64\n",
              "Helthcare_2        int64\n",
              "Shops_1            int64\n",
              "Shops_2           object\n",
              "Price            float64\n",
              "dtype: object"
            ]
          },
          "metadata": {
            "tags": []
          },
          "execution_count": 476
        }
      ]
    },
    {
      "cell_type": "code",
      "metadata": {
        "execution": {
          "iopub.status.busy": "2021-07-19T20:25:49.430804Z",
          "iopub.execute_input": "2021-07-19T20:25:49.431179Z",
          "iopub.status.idle": "2021-07-19T20:25:49.447329Z",
          "shell.execute_reply.started": "2021-07-19T20:25:49.431144Z",
          "shell.execute_reply": "2021-07-19T20:25:49.446218Z"
        },
        "trusted": true,
        "id": "YNNwm3HMURVE"
      },
      "source": [
        "def reduce_mem_usage(df):\n",
        "    \"\"\" iterate through all the columns of a dataframe and modify the data type\n",
        "        to reduce memory usage.        \n",
        "    \"\"\"\n",
        "    start_mem = df.memory_usage().sum() / 1024**2\n",
        "    print('Memory usage of dataframe is {:.2f} MB'.format(start_mem))\n",
        "    \n",
        "    for col in df.columns:\n",
        "        col_type = df[col].dtype\n",
        "        \n",
        "        if col_type != object:\n",
        "            c_min = df[col].min()\n",
        "            c_max = df[col].max()\n",
        "            if str(col_type)[:3] == 'int':\n",
        "                if c_min > np.iinfo(np.int8).min and c_max < np.iinfo(np.int8).max:\n",
        "                    df[col] = df[col].astype(np.int8)\n",
        "                elif c_min > np.iinfo(np.int16).min and c_max < np.iinfo(np.int16).max:\n",
        "                    df[col] = df[col].astype(np.int16)\n",
        "                elif c_min > np.iinfo(np.int32).min and c_max < np.iinfo(np.int32).max:\n",
        "                    df[col] = df[col].astype(np.int32)\n",
        "                elif c_min > np.iinfo(np.int64).min and c_max < np.iinfo(np.int64).max:\n",
        "                    df[col] = df[col].astype(np.int64)  \n",
        "            else:\n",
        "                if c_min > np.finfo(np.float32).min and c_max < np.finfo(np.float32).max:\n",
        "                    df[col] = df[col].astype(np.float32)\n",
        "                else:\n",
        "                    df[col] = df[col].astype(np.float64)\n",
        "        else:\n",
        "            df[col] = df[col].astype('category')\n",
        "\n",
        "    end_mem = df.memory_usage().sum() / 1024**2\n",
        "    print('Memory usage after optimization is: {:.2f} MB'.format(end_mem))\n",
        "    print('Decreased by {:.1f}%'.format(100 * (start_mem - end_mem) / start_mem))\n",
        "    \n",
        "    return df"
      ],
      "execution_count": null,
      "outputs": []
    },
    {
      "cell_type": "code",
      "metadata": {
        "execution": {
          "iopub.status.busy": "2021-07-19T20:25:49.476047Z",
          "iopub.execute_input": "2021-07-19T20:25:49.476430Z",
          "iopub.status.idle": "2021-07-19T20:25:49.525640Z",
          "shell.execute_reply.started": "2021-07-19T20:25:49.476387Z",
          "shell.execute_reply": "2021-07-19T20:25:49.524879Z"
        },
        "trusted": true,
        "id": "nbbycRRwURVF",
        "outputId": "b778a713-1d41-46e9-a9d1-53b58bfb25f3"
      },
      "source": [
        "train_df = reduce_mem_usage(train_df)\n",
        "train_df.head()"
      ],
      "execution_count": null,
      "outputs": [
        {
          "output_type": "stream",
          "text": [
            "Memory usage of dataframe is 1.53 MB\n",
            "Memory usage after optimization is: 0.49 MB\n",
            "Decreased by 68.1%\n"
          ],
          "name": "stdout"
        },
        {
          "output_type": "execute_result",
          "data": {
            "text/plain": [
              "      Id  DistrictId  Rooms      Square  LifeSquare  KitchenSquare  Floor  \\\n",
              "0  11809          27    3.0  115.027313         NaN           10.0      4   \n",
              "1   3013          22    1.0   39.832523   23.169222            8.0      7   \n",
              "2   8215           1    3.0   78.342216   47.671970           10.0      2   \n",
              "3   2352           1    1.0   40.409908         NaN            1.0     10   \n",
              "4  13866          94    2.0   64.285065   38.562515            9.0     16   \n",
              "\n",
              "   HouseFloor  HouseYear  Ecology_1 Ecology_2 Ecology_3  Social_1  Social_2  \\\n",
              "0        10.0       2014   0.075424         B         B        11      3097   \n",
              "1         8.0       1966   0.118537         B         B        30      6207   \n",
              "2        17.0       1988   0.025609         B         B        33      5261   \n",
              "3        22.0       1977   0.007122         B         B         1       264   \n",
              "4        16.0       1972   0.282798         B         B        33      8667   \n",
              "\n",
              "   Social_3  Healthcare_1  Helthcare_2  Shops_1 Shops_2          Price  \n",
              "0         0           NaN            0        0       B  305018.875000  \n",
              "1         1        1183.0            1        0       B  177734.546875  \n",
              "2         0         240.0            3        1       B  282078.718750  \n",
              "3         0           NaN            0        1       B  168106.000000  \n",
              "4         2           NaN            0        6       B  343995.093750  "
            ],
            "text/html": [
              "<div>\n",
              "<style scoped>\n",
              "    .dataframe tbody tr th:only-of-type {\n",
              "        vertical-align: middle;\n",
              "    }\n",
              "\n",
              "    .dataframe tbody tr th {\n",
              "        vertical-align: top;\n",
              "    }\n",
              "\n",
              "    .dataframe thead th {\n",
              "        text-align: right;\n",
              "    }\n",
              "</style>\n",
              "<table border=\"1\" class=\"dataframe\">\n",
              "  <thead>\n",
              "    <tr style=\"text-align: right;\">\n",
              "      <th></th>\n",
              "      <th>Id</th>\n",
              "      <th>DistrictId</th>\n",
              "      <th>Rooms</th>\n",
              "      <th>Square</th>\n",
              "      <th>LifeSquare</th>\n",
              "      <th>KitchenSquare</th>\n",
              "      <th>Floor</th>\n",
              "      <th>HouseFloor</th>\n",
              "      <th>HouseYear</th>\n",
              "      <th>Ecology_1</th>\n",
              "      <th>Ecology_2</th>\n",
              "      <th>Ecology_3</th>\n",
              "      <th>Social_1</th>\n",
              "      <th>Social_2</th>\n",
              "      <th>Social_3</th>\n",
              "      <th>Healthcare_1</th>\n",
              "      <th>Helthcare_2</th>\n",
              "      <th>Shops_1</th>\n",
              "      <th>Shops_2</th>\n",
              "      <th>Price</th>\n",
              "    </tr>\n",
              "  </thead>\n",
              "  <tbody>\n",
              "    <tr>\n",
              "      <th>0</th>\n",
              "      <td>11809</td>\n",
              "      <td>27</td>\n",
              "      <td>3.0</td>\n",
              "      <td>115.027313</td>\n",
              "      <td>NaN</td>\n",
              "      <td>10.0</td>\n",
              "      <td>4</td>\n",
              "      <td>10.0</td>\n",
              "      <td>2014</td>\n",
              "      <td>0.075424</td>\n",
              "      <td>B</td>\n",
              "      <td>B</td>\n",
              "      <td>11</td>\n",
              "      <td>3097</td>\n",
              "      <td>0</td>\n",
              "      <td>NaN</td>\n",
              "      <td>0</td>\n",
              "      <td>0</td>\n",
              "      <td>B</td>\n",
              "      <td>305018.875000</td>\n",
              "    </tr>\n",
              "    <tr>\n",
              "      <th>1</th>\n",
              "      <td>3013</td>\n",
              "      <td>22</td>\n",
              "      <td>1.0</td>\n",
              "      <td>39.832523</td>\n",
              "      <td>23.169222</td>\n",
              "      <td>8.0</td>\n",
              "      <td>7</td>\n",
              "      <td>8.0</td>\n",
              "      <td>1966</td>\n",
              "      <td>0.118537</td>\n",
              "      <td>B</td>\n",
              "      <td>B</td>\n",
              "      <td>30</td>\n",
              "      <td>6207</td>\n",
              "      <td>1</td>\n",
              "      <td>1183.0</td>\n",
              "      <td>1</td>\n",
              "      <td>0</td>\n",
              "      <td>B</td>\n",
              "      <td>177734.546875</td>\n",
              "    </tr>\n",
              "    <tr>\n",
              "      <th>2</th>\n",
              "      <td>8215</td>\n",
              "      <td>1</td>\n",
              "      <td>3.0</td>\n",
              "      <td>78.342216</td>\n",
              "      <td>47.671970</td>\n",
              "      <td>10.0</td>\n",
              "      <td>2</td>\n",
              "      <td>17.0</td>\n",
              "      <td>1988</td>\n",
              "      <td>0.025609</td>\n",
              "      <td>B</td>\n",
              "      <td>B</td>\n",
              "      <td>33</td>\n",
              "      <td>5261</td>\n",
              "      <td>0</td>\n",
              "      <td>240.0</td>\n",
              "      <td>3</td>\n",
              "      <td>1</td>\n",
              "      <td>B</td>\n",
              "      <td>282078.718750</td>\n",
              "    </tr>\n",
              "    <tr>\n",
              "      <th>3</th>\n",
              "      <td>2352</td>\n",
              "      <td>1</td>\n",
              "      <td>1.0</td>\n",
              "      <td>40.409908</td>\n",
              "      <td>NaN</td>\n",
              "      <td>1.0</td>\n",
              "      <td>10</td>\n",
              "      <td>22.0</td>\n",
              "      <td>1977</td>\n",
              "      <td>0.007122</td>\n",
              "      <td>B</td>\n",
              "      <td>B</td>\n",
              "      <td>1</td>\n",
              "      <td>264</td>\n",
              "      <td>0</td>\n",
              "      <td>NaN</td>\n",
              "      <td>0</td>\n",
              "      <td>1</td>\n",
              "      <td>B</td>\n",
              "      <td>168106.000000</td>\n",
              "    </tr>\n",
              "    <tr>\n",
              "      <th>4</th>\n",
              "      <td>13866</td>\n",
              "      <td>94</td>\n",
              "      <td>2.0</td>\n",
              "      <td>64.285065</td>\n",
              "      <td>38.562515</td>\n",
              "      <td>9.0</td>\n",
              "      <td>16</td>\n",
              "      <td>16.0</td>\n",
              "      <td>1972</td>\n",
              "      <td>0.282798</td>\n",
              "      <td>B</td>\n",
              "      <td>B</td>\n",
              "      <td>33</td>\n",
              "      <td>8667</td>\n",
              "      <td>2</td>\n",
              "      <td>NaN</td>\n",
              "      <td>0</td>\n",
              "      <td>6</td>\n",
              "      <td>B</td>\n",
              "      <td>343995.093750</td>\n",
              "    </tr>\n",
              "  </tbody>\n",
              "</table>\n",
              "</div>"
            ]
          },
          "metadata": {
            "tags": []
          },
          "execution_count": 478
        }
      ]
    },
    {
      "cell_type": "code",
      "metadata": {
        "execution": {
          "iopub.status.busy": "2021-07-19T20:25:49.526844Z",
          "iopub.execute_input": "2021-07-19T20:25:49.527275Z",
          "iopub.status.idle": "2021-07-19T20:25:49.534503Z",
          "shell.execute_reply.started": "2021-07-19T20:25:49.527245Z",
          "shell.execute_reply": "2021-07-19T20:25:49.533586Z"
        },
        "trusted": true,
        "id": "d2zwKRDOURVG",
        "outputId": "4405fa8c-2e3a-4e68-b3d9-96b3982d1722"
      },
      "source": [
        "train_df.dtypes"
      ],
      "execution_count": null,
      "outputs": [
        {
          "output_type": "execute_result",
          "data": {
            "text/plain": [
              "Id                  int16\n",
              "DistrictId          int16\n",
              "Rooms             float32\n",
              "Square            float32\n",
              "LifeSquare        float32\n",
              "KitchenSquare     float32\n",
              "Floor                int8\n",
              "HouseFloor        float32\n",
              "HouseYear           int32\n",
              "Ecology_1         float32\n",
              "Ecology_2        category\n",
              "Ecology_3        category\n",
              "Social_1             int8\n",
              "Social_2            int16\n",
              "Social_3            int16\n",
              "Healthcare_1      float32\n",
              "Helthcare_2          int8\n",
              "Shops_1              int8\n",
              "Shops_2          category\n",
              "Price             float32\n",
              "dtype: object"
            ]
          },
          "metadata": {
            "tags": []
          },
          "execution_count": 479
        }
      ]
    },
    {
      "cell_type": "code",
      "metadata": {
        "execution": {
          "iopub.status.busy": "2021-07-19T20:25:49.547105Z",
          "iopub.execute_input": "2021-07-19T20:25:49.547441Z",
          "iopub.status.idle": "2021-07-19T20:25:49.589313Z",
          "shell.execute_reply.started": "2021-07-19T20:25:49.547397Z",
          "shell.execute_reply": "2021-07-19T20:25:49.588366Z"
        },
        "trusted": true,
        "id": "JlyaH-jWURVG",
        "outputId": "5211ef53-a66e-44ef-f192-d2a19d3145c6"
      },
      "source": [
        "test_df = pd.read_csv(TEST_DATASET_PATH)\n",
        "test_df.tail()"
      ],
      "execution_count": null,
      "outputs": [
        {
          "output_type": "execute_result",
          "data": {
            "text/plain": [
              "         Id  DistrictId  Rooms     Square  LifeSquare  KitchenSquare  Floor  \\\n",
              "4995  10379          29    2.0  43.177521   30.339945            5.0      6   \n",
              "4996  16138          38    3.0  93.698122   94.521465           10.0     21   \n",
              "4997   3912         101    1.0  33.656723   19.003259            5.0      2   \n",
              "4998   5722          10    1.0  38.635155   20.976257            9.0      8   \n",
              "4999  11004          21    2.0  67.122742   33.944344           13.0      9   \n",
              "\n",
              "      HouseFloor  HouseYear  Ecology_1 Ecology_2 Ecology_3  Social_1  \\\n",
              "4995         5.0       1962   0.069660         B         B        31   \n",
              "4996        27.0       2018   0.060753         B         B        15   \n",
              "4997         5.0       1966   0.038693         B         B        28   \n",
              "4998        14.0       1970   0.089040         B         B        33   \n",
              "4999        17.0       2009   0.194489         B         B        47   \n",
              "\n",
              "      Social_2  Social_3  Healthcare_1  Helthcare_2  Shops_1 Shops_2  \n",
              "4995      6119         4           NaN            1        2       B  \n",
              "4996      2787         2         520.0            0        7       B  \n",
              "4997      6533         1        1015.0            2        5       B  \n",
              "4998      7976         5           NaN            0       11       B  \n",
              "4999      8004         3         125.0            3        5       B  "
            ],
            "text/html": [
              "<div>\n",
              "<style scoped>\n",
              "    .dataframe tbody tr th:only-of-type {\n",
              "        vertical-align: middle;\n",
              "    }\n",
              "\n",
              "    .dataframe tbody tr th {\n",
              "        vertical-align: top;\n",
              "    }\n",
              "\n",
              "    .dataframe thead th {\n",
              "        text-align: right;\n",
              "    }\n",
              "</style>\n",
              "<table border=\"1\" class=\"dataframe\">\n",
              "  <thead>\n",
              "    <tr style=\"text-align: right;\">\n",
              "      <th></th>\n",
              "      <th>Id</th>\n",
              "      <th>DistrictId</th>\n",
              "      <th>Rooms</th>\n",
              "      <th>Square</th>\n",
              "      <th>LifeSquare</th>\n",
              "      <th>KitchenSquare</th>\n",
              "      <th>Floor</th>\n",
              "      <th>HouseFloor</th>\n",
              "      <th>HouseYear</th>\n",
              "      <th>Ecology_1</th>\n",
              "      <th>Ecology_2</th>\n",
              "      <th>Ecology_3</th>\n",
              "      <th>Social_1</th>\n",
              "      <th>Social_2</th>\n",
              "      <th>Social_3</th>\n",
              "      <th>Healthcare_1</th>\n",
              "      <th>Helthcare_2</th>\n",
              "      <th>Shops_1</th>\n",
              "      <th>Shops_2</th>\n",
              "    </tr>\n",
              "  </thead>\n",
              "  <tbody>\n",
              "    <tr>\n",
              "      <th>4995</th>\n",
              "      <td>10379</td>\n",
              "      <td>29</td>\n",
              "      <td>2.0</td>\n",
              "      <td>43.177521</td>\n",
              "      <td>30.339945</td>\n",
              "      <td>5.0</td>\n",
              "      <td>6</td>\n",
              "      <td>5.0</td>\n",
              "      <td>1962</td>\n",
              "      <td>0.069660</td>\n",
              "      <td>B</td>\n",
              "      <td>B</td>\n",
              "      <td>31</td>\n",
              "      <td>6119</td>\n",
              "      <td>4</td>\n",
              "      <td>NaN</td>\n",
              "      <td>1</td>\n",
              "      <td>2</td>\n",
              "      <td>B</td>\n",
              "    </tr>\n",
              "    <tr>\n",
              "      <th>4996</th>\n",
              "      <td>16138</td>\n",
              "      <td>38</td>\n",
              "      <td>3.0</td>\n",
              "      <td>93.698122</td>\n",
              "      <td>94.521465</td>\n",
              "      <td>10.0</td>\n",
              "      <td>21</td>\n",
              "      <td>27.0</td>\n",
              "      <td>2018</td>\n",
              "      <td>0.060753</td>\n",
              "      <td>B</td>\n",
              "      <td>B</td>\n",
              "      <td>15</td>\n",
              "      <td>2787</td>\n",
              "      <td>2</td>\n",
              "      <td>520.0</td>\n",
              "      <td>0</td>\n",
              "      <td>7</td>\n",
              "      <td>B</td>\n",
              "    </tr>\n",
              "    <tr>\n",
              "      <th>4997</th>\n",
              "      <td>3912</td>\n",
              "      <td>101</td>\n",
              "      <td>1.0</td>\n",
              "      <td>33.656723</td>\n",
              "      <td>19.003259</td>\n",
              "      <td>5.0</td>\n",
              "      <td>2</td>\n",
              "      <td>5.0</td>\n",
              "      <td>1966</td>\n",
              "      <td>0.038693</td>\n",
              "      <td>B</td>\n",
              "      <td>B</td>\n",
              "      <td>28</td>\n",
              "      <td>6533</td>\n",
              "      <td>1</td>\n",
              "      <td>1015.0</td>\n",
              "      <td>2</td>\n",
              "      <td>5</td>\n",
              "      <td>B</td>\n",
              "    </tr>\n",
              "    <tr>\n",
              "      <th>4998</th>\n",
              "      <td>5722</td>\n",
              "      <td>10</td>\n",
              "      <td>1.0</td>\n",
              "      <td>38.635155</td>\n",
              "      <td>20.976257</td>\n",
              "      <td>9.0</td>\n",
              "      <td>8</td>\n",
              "      <td>14.0</td>\n",
              "      <td>1970</td>\n",
              "      <td>0.089040</td>\n",
              "      <td>B</td>\n",
              "      <td>B</td>\n",
              "      <td>33</td>\n",
              "      <td>7976</td>\n",
              "      <td>5</td>\n",
              "      <td>NaN</td>\n",
              "      <td>0</td>\n",
              "      <td>11</td>\n",
              "      <td>B</td>\n",
              "    </tr>\n",
              "    <tr>\n",
              "      <th>4999</th>\n",
              "      <td>11004</td>\n",
              "      <td>21</td>\n",
              "      <td>2.0</td>\n",
              "      <td>67.122742</td>\n",
              "      <td>33.944344</td>\n",
              "      <td>13.0</td>\n",
              "      <td>9</td>\n",
              "      <td>17.0</td>\n",
              "      <td>2009</td>\n",
              "      <td>0.194489</td>\n",
              "      <td>B</td>\n",
              "      <td>B</td>\n",
              "      <td>47</td>\n",
              "      <td>8004</td>\n",
              "      <td>3</td>\n",
              "      <td>125.0</td>\n",
              "      <td>3</td>\n",
              "      <td>5</td>\n",
              "      <td>B</td>\n",
              "    </tr>\n",
              "  </tbody>\n",
              "</table>\n",
              "</div>"
            ]
          },
          "metadata": {
            "tags": []
          },
          "execution_count": 480
        }
      ]
    },
    {
      "cell_type": "code",
      "metadata": {
        "execution": {
          "iopub.status.busy": "2021-07-19T20:25:49.590742Z",
          "iopub.execute_input": "2021-07-19T20:25:49.591049Z",
          "iopub.status.idle": "2021-07-19T20:25:49.596345Z",
          "shell.execute_reply.started": "2021-07-19T20:25:49.591019Z",
          "shell.execute_reply": "2021-07-19T20:25:49.595284Z"
        },
        "trusted": true,
        "id": "4CKsZ6q7URVH",
        "outputId": "257b1ef5-d5e2-4b69-850e-3c0358d53b23"
      },
      "source": [
        "print('Строк в трейне:', train_df.shape[0])\n",
        "print('Строк в тесте', test_df.shape[0])"
      ],
      "execution_count": null,
      "outputs": [
        {
          "output_type": "stream",
          "text": [
            "Строк в трейне: 10000\n",
            "Строк в тесте 5000\n"
          ],
          "name": "stdout"
        }
      ]
    },
    {
      "cell_type": "code",
      "metadata": {
        "execution": {
          "iopub.status.busy": "2021-07-19T20:25:49.598866Z",
          "iopub.execute_input": "2021-07-19T20:25:49.599334Z",
          "iopub.status.idle": "2021-07-19T20:25:49.610774Z",
          "shell.execute_reply.started": "2021-07-19T20:25:49.599282Z",
          "shell.execute_reply": "2021-07-19T20:25:49.609594Z"
        },
        "trusted": true,
        "id": "LTJsaeY5URVH",
        "outputId": "c68a696a-a0f9-4f39-8fe4-31985892e6dd"
      },
      "source": [
        "train_df.shape[1] - 1 == test_df.shape[1]"
      ],
      "execution_count": null,
      "outputs": [
        {
          "output_type": "execute_result",
          "data": {
            "text/plain": [
              "True"
            ]
          },
          "metadata": {
            "tags": []
          },
          "execution_count": 482
        }
      ]
    },
    {
      "cell_type": "code",
      "metadata": {
        "execution": {
          "iopub.status.busy": "2021-07-19T20:25:49.612397Z",
          "iopub.execute_input": "2021-07-19T20:25:49.612729Z",
          "iopub.status.idle": "2021-07-19T20:25:49.649440Z",
          "shell.execute_reply.started": "2021-07-19T20:25:49.612700Z",
          "shell.execute_reply": "2021-07-19T20:25:49.648336Z"
        },
        "trusted": true,
        "id": "Ut5bkM3lURVI"
      },
      "source": [
        "train_df['Id'] = train_df['Id'].astype(str)\n",
        "train_df['DistrictId'] = train_df['DistrictId'].astype(str)"
      ],
      "execution_count": null,
      "outputs": []
    },
    {
      "cell_type": "code",
      "metadata": {
        "execution": {
          "iopub.status.busy": "2021-07-19T20:25:49.650968Z",
          "iopub.execute_input": "2021-07-19T20:25:49.651264Z",
          "iopub.status.idle": "2021-07-19T20:25:49.917938Z",
          "shell.execute_reply.started": "2021-07-19T20:25:49.651235Z",
          "shell.execute_reply": "2021-07-19T20:25:49.916876Z"
        },
        "trusted": true,
        "id": "EMD7hjdnURVI",
        "outputId": "e097c5b1-f223-4847-c9c7-0ab13e56837e"
      },
      "source": [
        "plt.figure(figsize = (16, 8))\n",
        "\n",
        "train_df['Price'].hist(bins=40)\n",
        "plt.ylabel('Count')\n",
        "plt.xlabel('Price')\n",
        "\n",
        "plt.title('Target distribution')\n",
        "plt.show()"
      ],
      "execution_count": null,
      "outputs": [
        {
          "output_type": "display_data",
          "data": {
            "text/plain": [
              "<Figure size 1152x576 with 1 Axes>"
            ],
            "image/png": "[encoded data removed]"
          },
          "metadata": {
            "tags": [],
            "needs_background": "light"
          }
        }
      ]
    },
    {
      "cell_type": "code",
      "metadata": {
        "execution": {
          "iopub.status.busy": "2021-07-19T20:25:49.919529Z",
          "iopub.execute_input": "2021-07-19T20:25:49.919823Z",
          "iopub.status.idle": "2021-07-19T20:25:49.990953Z",
          "shell.execute_reply.started": "2021-07-19T20:25:49.919794Z",
          "shell.execute_reply": "2021-07-19T20:25:49.990246Z"
        },
        "trusted": true,
        "id": "aeccl1mNURVI",
        "outputId": "b583d55d-dde9-4c7a-c531-fc523717b277"
      },
      "source": [
        "train_df.describe()"
      ],
      "execution_count": null,
      "outputs": [
        {
          "output_type": "execute_result",
          "data": {
            "text/plain": [
              "              Rooms        Square   LifeSquare  KitchenSquare         Floor  \\\n",
              "count  10000.000000  10000.000000  7887.000000   10000.000000  10000.000000   \n",
              "mean       1.890500     56.315720    37.199665       6.273300      8.526700   \n",
              "std        0.839522     21.058716    86.241219      28.560839      5.241148   \n",
              "min        0.000000      1.136859     0.370619       0.000000      1.000000   \n",
              "25%        1.000000     41.774879    22.769833       1.000000      4.000000   \n",
              "50%        2.000000     52.513309    32.781261       6.000000      7.000000   \n",
              "75%        2.000000     65.900627    45.128803       9.000000     12.000000   \n",
              "max       19.000000    641.065186  7480.592285    2014.000000     42.000000   \n",
              "\n",
              "       HouseFloor     HouseYear     Ecology_1      Social_1      Social_2  \\\n",
              "count  10000.0000  1.000000e+04  10000.000000  10000.000000  10000.000000   \n",
              "mean      12.6094  3.990166e+03      0.118858     24.687000   5352.157400   \n",
              "std        6.7762  2.005003e+05      0.119025     17.532614   4006.799803   \n",
              "min        0.0000  1.910000e+03      0.000000      0.000000    168.000000   \n",
              "25%        9.0000  1.974000e+03      0.017647      6.000000   1564.000000   \n",
              "50%       13.0000  1.977000e+03      0.075424     25.000000   5285.000000   \n",
              "75%       17.0000  2.001000e+03      0.195781     36.000000   7227.000000   \n",
              "max      117.0000  2.005201e+07      0.521867     74.000000  19083.000000   \n",
              "\n",
              "           Social_3  Healthcare_1   Helthcare_2       Shops_1          Price  \n",
              "count  10000.000000   5202.000000  10000.000000  10000.000000   10000.000000  \n",
              "mean       8.039200   1142.904419      1.319500      4.231300  214138.937500  \n",
              "std       23.831875   1021.519470      1.493601      4.806341   92872.273438  \n",
              "min        0.000000      0.000000      0.000000      0.000000   59174.777344  \n",
              "25%        0.000000    350.000000      0.000000      1.000000  153872.628906  \n",
              "50%        2.000000    900.000000      1.000000      3.000000  192269.648438  \n",
              "75%        5.000000   1548.000000      2.000000      6.000000  249135.460938  \n",
              "max      141.000000   4849.000000      6.000000     23.000000  633233.437500  "
            ],
            "text/html": [
              "<div>\n",
              "<style scoped>\n",
              "    .dataframe tbody tr th:only-of-type {\n",
              "        vertical-align: middle;\n",
              "    }\n",
              "\n",
              "    .dataframe tbody tr th {\n",
              "        vertical-align: top;\n",
              "    }\n",
              "\n",
              "    .dataframe thead th {\n",
              "        text-align: right;\n",
              "    }\n",
              "</style>\n",
              "<table border=\"1\" class=\"dataframe\">\n",
              "  <thead>\n",
              "    <tr style=\"text-align: right;\">\n",
              "      <th></th>\n",
              "      <th>Rooms</th>\n",
              "      <th>Square</th>\n",
              "      <th>LifeSquare</th>\n",
              "      <th>KitchenSquare</th>\n",
              "      <th>Floor</th>\n",
              "      <th>HouseFloor</th>\n",
              "      <th>HouseYear</th>\n",
              "      <th>Ecology_1</th>\n",
              "      <th>Social_1</th>\n",
              "      <th>Social_2</th>\n",
              "      <th>Social_3</th>\n",
              "      <th>Healthcare_1</th>\n",
              "      <th>Helthcare_2</th>\n",
              "      <th>Shops_1</th>\n",
              "      <th>Price</th>\n",
              "    </tr>\n",
              "  </thead>\n",
              "  <tbody>\n",
              "    <tr>\n",
              "      <th>count</th>\n",
              "      <td>10000.000000</td>\n",
              "      <td>10000.000000</td>\n",
              "      <td>7887.000000</td>\n",
              "      <td>10000.000000</td>\n",
              "      <td>10000.000000</td>\n",
              "      <td>10000.0000</td>\n",
              "      <td>1.000000e+04</td>\n",
              "      <td>10000.000000</td>\n",
              "      <td>10000.000000</td>\n",
              "      <td>10000.000000</td>\n",
              "      <td>10000.000000</td>\n",
              "      <td>5202.000000</td>\n",
              "      <td>10000.000000</td>\n",
              "      <td>10000.000000</td>\n",
              "      <td>10000.000000</td>\n",
              "    </tr>\n",
              "    <tr>\n",
              "      <th>mean</th>\n",
              "      <td>1.890500</td>\n",
              "      <td>56.315720</td>\n",
              "      <td>37.199665</td>\n",
              "      <td>6.273300</td>\n",
              "      <td>8.526700</td>\n",
              "      <td>12.6094</td>\n",
              "      <td>3.990166e+03</td>\n",
              "      <td>0.118858</td>\n",
              "      <td>24.687000</td>\n",
              "      <td>5352.157400</td>\n",
              "      <td>8.039200</td>\n",
              "      <td>1142.904419</td>\n",
              "      <td>1.319500</td>\n",
              "      <td>4.231300</td>\n",
              "      <td>214138.937500</td>\n",
              "    </tr>\n",
              "    <tr>\n",
              "      <th>std</th>\n",
              "      <td>0.839522</td>\n",
              "      <td>21.058716</td>\n",
              "      <td>86.241219</td>\n",
              "      <td>28.560839</td>\n",
              "      <td>5.241148</td>\n",
              "      <td>6.7762</td>\n",
              "      <td>2.005003e+05</td>\n",
              "      <td>0.119025</td>\n",
              "      <td>17.532614</td>\n",
              "      <td>4006.799803</td>\n",
              "      <td>23.831875</td>\n",
              "      <td>1021.519470</td>\n",
              "      <td>1.493601</td>\n",
              "      <td>4.806341</td>\n",
              "      <td>92872.273438</td>\n",
              "    </tr>\n",
              "    <tr>\n",
              "      <th>min</th>\n",
              "      <td>0.000000</td>\n",
              "      <td>1.136859</td>\n",
              "      <td>0.370619</td>\n",
              "      <td>0.000000</td>\n",
              "      <td>1.000000</td>\n",
              "      <td>0.0000</td>\n",
              "      <td>1.910000e+03</td>\n",
              "      <td>0.000000</td>\n",
              "      <td>0.000000</td>\n",
              "      <td>168.000000</td>\n",
              "      <td>0.000000</td>\n",
              "      <td>0.000000</td>\n",
              "      <td>0.000000</td>\n",
              "      <td>0.000000</td>\n",
              "      <td>59174.777344</td>\n",
              "    </tr>\n",
              "    <tr>\n",
              "      <th>25%</th>\n",
              "      <td>1.000000</td>\n",
              "      <td>41.774879</td>\n",
              "      <td>22.769833</td>\n",
              "      <td>1.000000</td>\n",
              "      <td>4.000000</td>\n",
              "      <td>9.0000</td>\n",
              "      <td>1.974000e+03</td>\n",
              "      <td>0.017647</td>\n",
              "      <td>6.000000</td>\n",
              "      <td>1564.000000</td>\n",
              "      <td>0.000000</td>\n",
              "      <td>350.000000</td>\n",
              "      <td>0.000000</td>\n",
              "      <td>1.000000</td>\n",
              "      <td>153872.628906</td>\n",
              "    </tr>\n",
              "    <tr>\n",
              "      <th>50%</th>\n",
              "      <td>2.000000</td>\n",
              "      <td>52.513309</td>\n",
              "      <td>32.781261</td>\n",
              "      <td>6.000000</td>\n",
              "      <td>7.000000</td>\n",
              "      <td>13.0000</td>\n",
              "      <td>1.977000e+03</td>\n",
              "      <td>0.075424</td>\n",
              "      <td>25.000000</td>\n",
              "      <td>5285.000000</td>\n",
              "      <td>2.000000</td>\n",
              "      <td>900.000000</td>\n",
              "      <td>1.000000</td>\n",
              "      <td>3.000000</td>\n",
              "      <td>192269.648438</td>\n",
              "    </tr>\n",
              "    <tr>\n",
              "      <th>75%</th>\n",
              "      <td>2.000000</td>\n",
              "      <td>65.900627</td>\n",
              "      <td>45.128803</td>\n",
              "      <td>9.000000</td>\n",
              "      <td>12.000000</td>\n",
              "      <td>17.0000</td>\n",
              "      <td>2.001000e+03</td>\n",
              "      <td>0.195781</td>\n",
              "      <td>36.000000</td>\n",
              "      <td>7227.000000</td>\n",
              "      <td>5.000000</td>\n",
              "      <td>1548.000000</td>\n",
              "      <td>2.000000</td>\n",
              "      <td>6.000000</td>\n",
              "      <td>249135.460938</td>\n",
              "    </tr>\n",
              "    <tr>\n",
              "      <th>max</th>\n",
              "      <td>19.000000</td>\n",
              "      <td>641.065186</td>\n",
              "      <td>7480.592285</td>\n",
              "      <td>2014.000000</td>\n",
              "      <td>42.000000</td>\n",
              "      <td>117.0000</td>\n",
              "      <td>2.005201e+07</td>\n",
              "      <td>0.521867</td>\n",
              "      <td>74.000000</td>\n",
              "      <td>19083.000000</td>\n",
              "      <td>141.000000</td>\n",
              "      <td>4849.000000</td>\n",
              "      <td>6.000000</td>\n",
              "      <td>23.000000</td>\n",
              "      <td>633233.437500</td>\n",
              "    </tr>\n",
              "  </tbody>\n",
              "</table>\n",
              "</div>"
            ]
          },
          "metadata": {
            "tags": []
          },
          "execution_count": 485
        }
      ]
    },
    {
      "cell_type": "code",
      "metadata": {
        "execution": {
          "iopub.status.busy": "2021-07-19T20:25:49.992430Z",
          "iopub.execute_input": "2021-07-19T20:25:49.992878Z",
          "iopub.status.idle": "2021-07-19T20:25:50.003000Z",
          "shell.execute_reply.started": "2021-07-19T20:25:49.992823Z",
          "shell.execute_reply": "2021-07-19T20:25:50.001912Z"
        },
        "trusted": true,
        "id": "ed3_ON7LURVJ",
        "outputId": "a28cbfab-4765-4373-e56f-665e5a261a0f"
      },
      "source": [
        "train_df.select_dtypes(include='object').columns.tolist()"
      ],
      "execution_count": null,
      "outputs": [
        {
          "output_type": "execute_result",
          "data": {
            "text/plain": [
              "['Id', 'DistrictId']"
            ]
          },
          "metadata": {
            "tags": []
          },
          "execution_count": 486
        }
      ]
    },
    {
      "cell_type": "code",
      "metadata": {
        "execution": {
          "iopub.status.busy": "2021-07-19T20:25:50.004668Z",
          "iopub.execute_input": "2021-07-19T20:25:50.005001Z",
          "iopub.status.idle": "2021-07-19T20:25:50.021762Z",
          "shell.execute_reply.started": "2021-07-19T20:25:50.004971Z",
          "shell.execute_reply": "2021-07-19T20:25:50.021004Z"
        },
        "trusted": true,
        "id": "JoKUhjcFURVJ",
        "outputId": "f68d163e-c2a9-4e1d-f8ba-c7e65cb15537"
      },
      "source": [
        "train_df['DistrictId'].value_counts()"
      ],
      "execution_count": null,
      "outputs": [
        {
          "output_type": "execute_result",
          "data": {
            "text/plain": [
              "27     851\n",
              "1      652\n",
              "23     565\n",
              "6      511\n",
              "9      294\n",
              "      ... \n",
              "207      1\n",
              "196      1\n",
              "174      1\n",
              "117      1\n",
              "205      1\n",
              "Name: DistrictId, Length: 205, dtype: int64"
            ]
          },
          "metadata": {
            "tags": []
          },
          "execution_count": 487
        }
      ]
    },
    {
      "cell_type": "code",
      "metadata": {
        "execution": {
          "iopub.status.busy": "2021-07-19T20:25:50.022916Z",
          "iopub.execute_input": "2021-07-19T20:25:50.023331Z",
          "iopub.status.idle": "2021-07-19T20:25:50.038018Z",
          "shell.execute_reply.started": "2021-07-19T20:25:50.023301Z",
          "shell.execute_reply": "2021-07-19T20:25:50.037158Z"
        },
        "trusted": true,
        "id": "h8IEZYw2URVK",
        "outputId": "bdbcaa82-d47d-43b0-eb1c-c7818a677c71"
      },
      "source": [
        "train_df['Ecology_2'].value_counts()"
      ],
      "execution_count": null,
      "outputs": [
        {
          "output_type": "execute_result",
          "data": {
            "text/plain": [
              "B    9903\n",
              "A      97\n",
              "Name: Ecology_2, dtype: int64"
            ]
          },
          "metadata": {
            "tags": []
          },
          "execution_count": 488
        }
      ]
    },
    {
      "cell_type": "code",
      "metadata": {
        "execution": {
          "iopub.status.busy": "2021-07-19T20:25:50.039129Z",
          "iopub.execute_input": "2021-07-19T20:25:50.039563Z",
          "iopub.status.idle": "2021-07-19T20:25:50.053573Z",
          "shell.execute_reply.started": "2021-07-19T20:25:50.039531Z",
          "shell.execute_reply": "2021-07-19T20:25:50.052770Z"
        },
        "trusted": true,
        "id": "p6Mqf76uURVK",
        "outputId": "84aac2de-1744-4579-d958-275511078d49"
      },
      "source": [
        "train_df['Ecology_1'].value_counts()"
      ],
      "execution_count": null,
      "outputs": [
        {
          "output_type": "execute_result",
          "data": {
            "text/plain": [
              "0.007122    587\n",
              "0.000000    537\n",
              "0.243205    511\n",
              "0.072158    486\n",
              "0.075779    346\n",
              "           ... \n",
              "0.386772      6\n",
              "0.011320      3\n",
              "0.394094      2\n",
              "0.012522      1\n",
              "0.014334      1\n",
              "Name: Ecology_1, Length: 129, dtype: int64"
            ]
          },
          "metadata": {
            "tags": []
          },
          "execution_count": 489
        }
      ]
    },
    {
      "cell_type": "markdown",
      "metadata": {
        "id": "14ZgVU9XURVK"
      },
      "source": [
        "Обработка выбросов"
      ]
    },
    {
      "cell_type": "code",
      "metadata": {
        "execution": {
          "iopub.status.busy": "2021-07-19T20:25:50.054739Z",
          "iopub.execute_input": "2021-07-19T20:25:50.055204Z",
          "iopub.status.idle": "2021-07-19T20:25:50.067053Z",
          "shell.execute_reply.started": "2021-07-19T20:25:50.055173Z",
          "shell.execute_reply": "2021-07-19T20:25:50.066064Z"
        },
        "trusted": true,
        "id": "6PyCsNCqURVL",
        "outputId": "d3217de2-0032-4244-a21d-1c2de6f79cbb"
      },
      "source": [
        "train_df['Rooms'].value_counts()"
      ],
      "execution_count": null,
      "outputs": [
        {
          "output_type": "execute_result",
          "data": {
            "text/plain": [
              "2.0     3880\n",
              "1.0     3705\n",
              "3.0     2235\n",
              "4.0      150\n",
              "5.0       18\n",
              "0.0        8\n",
              "10.0       2\n",
              "6.0        1\n",
              "19.0       1\n",
              "Name: Rooms, dtype: int64"
            ]
          },
          "metadata": {
            "tags": []
          },
          "execution_count": 490
        }
      ]
    },
    {
      "cell_type": "code",
      "metadata": {
        "execution": {
          "iopub.status.busy": "2021-07-19T20:25:50.069845Z",
          "iopub.execute_input": "2021-07-19T20:25:50.070295Z",
          "iopub.status.idle": "2021-07-19T20:25:50.114738Z",
          "shell.execute_reply.started": "2021-07-19T20:25:50.070253Z",
          "shell.execute_reply": "2021-07-19T20:25:50.113707Z"
        },
        "trusted": true,
        "id": "xT4-e_27URVL",
        "outputId": "6430c057-bb9c-4643-fbec-14d49a2c4ec4"
      },
      "source": [
        "train_df['Rooms_outlier'] = 0\n",
        "train_df.loc[(train_df['Rooms'] == 0) | (train_df['Rooms'] >= 6), 'Rooms_outlier'] = 1\n",
        "train_df.loc[train_df['Rooms'] == 0, 'Rooms'] = 1\n",
        "train_df.loc[train_df['Rooms'] >= 6, 'Rooms'] = train_df['Rooms'].median()\n",
        "train_df.head()"
      ],
      "execution_count": null,
      "outputs": [
        {
          "output_type": "execute_result",
          "data": {
            "text/plain": [
              "      Id DistrictId  Rooms      Square  LifeSquare  KitchenSquare  Floor  \\\n",
              "0  11809         27    3.0  115.027313         NaN           10.0      4   \n",
              "1   3013         22    1.0   39.832523   23.169222            8.0      7   \n",
              "2   8215          1    3.0   78.342216   47.671970           10.0      2   \n",
              "3   2352          1    1.0   40.409908         NaN            1.0     10   \n",
              "4  13866         94    2.0   64.285065   38.562515            9.0     16   \n",
              "\n",
              "   HouseFloor  HouseYear  Ecology_1  ... Ecology_3 Social_1  Social_2  \\\n",
              "0        10.0       2014   0.075424  ...         B       11      3097   \n",
              "1         8.0       1966   0.118537  ...         B       30      6207   \n",
              "2        17.0       1988   0.025609  ...         B       33      5261   \n",
              "3        22.0       1977   0.007122  ...         B        1       264   \n",
              "4        16.0       1972   0.282798  ...         B       33      8667   \n",
              "\n",
              "   Social_3  Healthcare_1  Helthcare_2  Shops_1  Shops_2          Price  \\\n",
              "0         0           NaN            0        0        B  305018.875000   \n",
              "1         1        1183.0            1        0        B  177734.546875   \n",
              "2         0         240.0            3        1        B  282078.718750   \n",
              "3         0           NaN            0        1        B  168106.000000   \n",
              "4         2           NaN            0        6        B  343995.093750   \n",
              "\n",
              "   Rooms_outlier  \n",
              "0              0  \n",
              "1              0  \n",
              "2              0  \n",
              "3              0  \n",
              "4              0  \n",
              "\n",
              "[5 rows x 21 columns]"
            ],
            "text/html": [
              "<div>\n",
              "<style scoped>\n",
              "    .dataframe tbody tr th:only-of-type {\n",
              "        vertical-align: middle;\n",
              "    }\n",
              "\n",
              "    .dataframe tbody tr th {\n",
              "        vertical-align: top;\n",
              "    }\n",
              "\n",
              "    .dataframe thead th {\n",
              "        text-align: right;\n",
              "    }\n",
              "</style>\n",
              "<table border=\"1\" class=\"dataframe\">\n",
              "  <thead>\n",
              "    <tr style=\"text-align: right;\">\n",
              "      <th></th>\n",
              "      <th>Id</th>\n",
              "      <th>DistrictId</th>\n",
              "      <th>Rooms</th>\n",
              "      <th>Square</th>\n",
              "      <th>LifeSquare</th>\n",
              "      <th>KitchenSquare</th>\n",
              "      <th>Floor</th>\n",
              "      <th>HouseFloor</th>\n",
              "      <th>HouseYear</th>\n",
              "      <th>Ecology_1</th>\n",
              "      <th>...</th>\n",
              "      <th>Ecology_3</th>\n",
              "      <th>Social_1</th>\n",
              "      <th>Social_2</th>\n",
              "      <th>Social_3</th>\n",
              "      <th>Healthcare_1</th>\n",
              "      <th>Helthcare_2</th>\n",
              "      <th>Shops_1</th>\n",
              "      <th>Shops_2</th>\n",
              "      <th>Price</th>\n",
              "      <th>Rooms_outlier</th>\n",
              "    </tr>\n",
              "  </thead>\n",
              "  <tbody>\n",
              "    <tr>\n",
              "      <th>0</th>\n",
              "      <td>11809</td>\n",
              "      <td>27</td>\n",
              "      <td>3.0</td>\n",
              "      <td>115.027313</td>\n",
              "      <td>NaN</td>\n",
              "      <td>10.0</td>\n",
              "      <td>4</td>\n",
              "      <td>10.0</td>\n",
              "      <td>2014</td>\n",
              "      <td>0.075424</td>\n",
              "      <td>...</td>\n",
              "      <td>B</td>\n",
              "      <td>11</td>\n",
              "      <td>3097</td>\n",
              "      <td>0</td>\n",
              "      <td>NaN</td>\n",
              "      <td>0</td>\n",
              "      <td>0</td>\n",
              "      <td>B</td>\n",
              "      <td>305018.875000</td>\n",
              "      <td>0</td>\n",
              "    </tr>\n",
              "    <tr>\n",
              "      <th>1</th>\n",
              "      <td>3013</td>\n",
              "      <td>22</td>\n",
              "      <td>1.0</td>\n",
              "      <td>39.832523</td>\n",
              "      <td>23.169222</td>\n",
              "      <td>8.0</td>\n",
              "      <td>7</td>\n",
              "      <td>8.0</td>\n",
              "      <td>1966</td>\n",
              "      <td>0.118537</td>\n",
              "      <td>...</td>\n",
              "      <td>B</td>\n",
              "      <td>30</td>\n",
              "      <td>6207</td>\n",
              "      <td>1</td>\n",
              "      <td>1183.0</td>\n",
              "      <td>1</td>\n",
              "      <td>0</td>\n",
              "      <td>B</td>\n",
              "      <td>177734.546875</td>\n",
              "      <td>0</td>\n",
              "    </tr>\n",
              "    <tr>\n",
              "      <th>2</th>\n",
              "      <td>8215</td>\n",
              "      <td>1</td>\n",
              "      <td>3.0</td>\n",
              "      <td>78.342216</td>\n",
              "      <td>47.671970</td>\n",
              "      <td>10.0</td>\n",
              "      <td>2</td>\n",
              "      <td>17.0</td>\n",
              "      <td>1988</td>\n",
              "      <td>0.025609</td>\n",
              "      <td>...</td>\n",
              "      <td>B</td>\n",
              "      <td>33</td>\n",
              "      <td>5261</td>\n",
              "      <td>0</td>\n",
              "      <td>240.0</td>\n",
              "      <td>3</td>\n",
              "      <td>1</td>\n",
              "      <td>B</td>\n",
              "      <td>282078.718750</td>\n",
              "      <td>0</td>\n",
              "    </tr>\n",
              "    <tr>\n",
              "      <th>3</th>\n",
              "      <td>2352</td>\n",
              "      <td>1</td>\n",
              "      <td>1.0</td>\n",
              "      <td>40.409908</td>\n",
              "      <td>NaN</td>\n",
              "      <td>1.0</td>\n",
              "      <td>10</td>\n",
              "      <td>22.0</td>\n",
              "      <td>1977</td>\n",
              "      <td>0.007122</td>\n",
              "      <td>...</td>\n",
              "      <td>B</td>\n",
              "      <td>1</td>\n",
              "      <td>264</td>\n",
              "      <td>0</td>\n",
              "      <td>NaN</td>\n",
              "      <td>0</td>\n",
              "      <td>1</td>\n",
              "      <td>B</td>\n",
              "      <td>168106.000000</td>\n",
              "      <td>0</td>\n",
              "    </tr>\n",
              "    <tr>\n",
              "      <th>4</th>\n",
              "      <td>13866</td>\n",
              "      <td>94</td>\n",
              "      <td>2.0</td>\n",
              "      <td>64.285065</td>\n",
              "      <td>38.562515</td>\n",
              "      <td>9.0</td>\n",
              "      <td>16</td>\n",
              "      <td>16.0</td>\n",
              "      <td>1972</td>\n",
              "      <td>0.282798</td>\n",
              "      <td>...</td>\n",
              "      <td>B</td>\n",
              "      <td>33</td>\n",
              "      <td>8667</td>\n",
              "      <td>2</td>\n",
              "      <td>NaN</td>\n",
              "      <td>0</td>\n",
              "      <td>6</td>\n",
              "      <td>B</td>\n",
              "      <td>343995.093750</td>\n",
              "      <td>0</td>\n",
              "    </tr>\n",
              "  </tbody>\n",
              "</table>\n",
              "<p>5 rows × 21 columns</p>\n",
              "</div>"
            ]
          },
          "metadata": {
            "tags": []
          },
          "execution_count": 491
        }
      ]
    },
    {
      "cell_type": "code",
      "metadata": {
        "execution": {
          "iopub.status.busy": "2021-07-19T20:25:50.116562Z",
          "iopub.execute_input": "2021-07-19T20:25:50.116880Z",
          "iopub.status.idle": "2021-07-19T20:25:50.125327Z",
          "shell.execute_reply.started": "2021-07-19T20:25:50.116850Z",
          "shell.execute_reply": "2021-07-19T20:25:50.124421Z"
        },
        "trusted": true,
        "id": "O2QAumf1URVM",
        "outputId": "d94d6b20-297d-4c42-8529-dca35bf1a9f9"
      },
      "source": [
        "train_df['Rooms'].value_counts()"
      ],
      "execution_count": null,
      "outputs": [
        {
          "output_type": "execute_result",
          "data": {
            "text/plain": [
              "2.0    3884\n",
              "1.0    3713\n",
              "3.0    2235\n",
              "4.0     150\n",
              "5.0      18\n",
              "Name: Rooms, dtype: int64"
            ]
          },
          "metadata": {
            "tags": []
          },
          "execution_count": 492
        }
      ]
    },
    {
      "cell_type": "markdown",
      "metadata": {
        "id": "KC6eXg-9URVM"
      },
      "source": [
        "KitchenSquare\n"
      ]
    },
    {
      "cell_type": "code",
      "metadata": {
        "execution": {
          "iopub.status.busy": "2021-07-19T20:25:50.126436Z",
          "iopub.execute_input": "2021-07-19T20:25:50.126819Z",
          "iopub.status.idle": "2021-07-19T20:25:50.143842Z",
          "shell.execute_reply.started": "2021-07-19T20:25:50.126786Z",
          "shell.execute_reply": "2021-07-19T20:25:50.142695Z"
        },
        "trusted": true,
        "id": "BpknS-1uURVM",
        "outputId": "de4ec536-3fcd-4ab8-89c0-2522edf7ad8b"
      },
      "source": [
        "train_df['KitchenSquare'].value_counts()"
      ],
      "execution_count": null,
      "outputs": [
        {
          "output_type": "execute_result",
          "data": {
            "text/plain": [
              "1.0       2460\n",
              "8.0       1306\n",
              "5.0       1169\n",
              "10.0      1075\n",
              "6.0       1038\n",
              "9.0        843\n",
              "0.0        697\n",
              "7.0        609\n",
              "12.0       249\n",
              "11.0       233\n",
              "13.0        67\n",
              "14.0        51\n",
              "4.0         39\n",
              "15.0        31\n",
              "3.0         22\n",
              "16.0        16\n",
              "20.0        14\n",
              "17.0        12\n",
              "19.0        11\n",
              "18.0         6\n",
              "2.0          4\n",
              "22.0         3\n",
              "112.0        2\n",
              "51.0         2\n",
              "58.0         2\n",
              "37.0         2\n",
              "32.0         2\n",
              "41.0         2\n",
              "43.0         2\n",
              "30.0         2\n",
              "25.0         2\n",
              "39.0         1\n",
              "23.0         1\n",
              "123.0        1\n",
              "40.0         1\n",
              "48.0         1\n",
              "21.0         1\n",
              "72.0         1\n",
              "27.0         1\n",
              "63.0         1\n",
              "1970.0       1\n",
              "29.0         1\n",
              "66.0         1\n",
              "2014.0       1\n",
              "31.0         1\n",
              "78.0         1\n",
              "35.0         1\n",
              "42.0         1\n",
              "73.0         1\n",
              "60.0         1\n",
              "84.0         1\n",
              "26.0         1\n",
              "54.0         1\n",
              "36.0         1\n",
              "53.0         1\n",
              "96.0         1\n",
              "62.0         1\n",
              "75.0         1\n",
              "Name: KitchenSquare, dtype: int64"
            ]
          },
          "metadata": {
            "tags": []
          },
          "execution_count": 493
        }
      ]
    },
    {
      "cell_type": "code",
      "metadata": {
        "execution": {
          "iopub.status.busy": "2021-07-19T20:25:50.145194Z",
          "iopub.execute_input": "2021-07-19T20:25:50.145508Z",
          "iopub.status.idle": "2021-07-19T20:25:50.160484Z",
          "shell.execute_reply.started": "2021-07-19T20:25:50.145469Z",
          "shell.execute_reply": "2021-07-19T20:25:50.159433Z"
        },
        "trusted": true,
        "id": "FIDGzXUDURVN",
        "outputId": "4fa8e0e9-59a4-465f-b2e9-9d23961bf5f4"
      },
      "source": [
        "train_df['KitchenSquare'].quantile(.975), train_df['KitchenSquare'].quantile(.025)"
      ],
      "execution_count": null,
      "outputs": [
        {
          "output_type": "execute_result",
          "data": {
            "text/plain": [
              "(13.0, 0.0)"
            ]
          },
          "metadata": {
            "tags": []
          },
          "execution_count": 494
        }
      ]
    },
    {
      "cell_type": "code",
      "metadata": {
        "execution": {
          "iopub.status.busy": "2021-07-19T20:25:50.162192Z",
          "iopub.execute_input": "2021-07-19T20:25:50.162739Z",
          "iopub.status.idle": "2021-07-19T20:25:50.174514Z",
          "shell.execute_reply.started": "2021-07-19T20:25:50.162692Z",
          "shell.execute_reply": "2021-07-19T20:25:50.173438Z"
        },
        "trusted": true,
        "id": "_MKBGQi0URVN"
      },
      "source": [
        "condition = (train_df['KitchenSquare'].isna()) \\\n",
        "             | (train_df['KitchenSquare'] > train_df['KitchenSquare'].quantile(.975))\n",
        "        \n",
        "train_df.loc[condition, 'KitchenSquare'] = train_df['KitchenSquare'].median()\n",
        "\n",
        "train_df.loc[train_df['KitchenSquare'] < 3, 'KitchenSquare'] = 3"
      ],
      "execution_count": null,
      "outputs": []
    },
    {
      "cell_type": "code",
      "metadata": {
        "execution": {
          "iopub.status.busy": "2021-07-19T20:25:50.176166Z",
          "iopub.execute_input": "2021-07-19T20:25:50.176675Z",
          "iopub.status.idle": "2021-07-19T20:25:50.189014Z",
          "shell.execute_reply.started": "2021-07-19T20:25:50.176627Z",
          "shell.execute_reply": "2021-07-19T20:25:50.187751Z"
        },
        "trusted": true,
        "id": "KmWHn9GLURVN",
        "outputId": "ab37c0ce-6e87-451c-ee21-56d25811785e"
      },
      "source": [
        "train_df['KitchenSquare'].value_counts()"
      ],
      "execution_count": null,
      "outputs": [
        {
          "output_type": "execute_result",
          "data": {
            "text/plain": [
              "3.0     3183\n",
              "8.0     1306\n",
              "6.0     1227\n",
              "5.0     1169\n",
              "10.0    1075\n",
              "9.0      843\n",
              "7.0      609\n",
              "12.0     249\n",
              "11.0     233\n",
              "13.0      67\n",
              "4.0       39\n",
              "Name: KitchenSquare, dtype: int64"
            ]
          },
          "metadata": {
            "tags": []
          },
          "execution_count": 496
        }
      ]
    },
    {
      "cell_type": "markdown",
      "metadata": {
        "id": "RSvuANS6URVO"
      },
      "source": [
        "HouseFloor, Floor"
      ]
    },
    {
      "cell_type": "code",
      "metadata": {
        "execution": {
          "iopub.status.busy": "2021-07-19T20:25:50.190476Z",
          "iopub.execute_input": "2021-07-19T20:25:50.191023Z",
          "iopub.status.idle": "2021-07-19T20:25:50.206360Z",
          "shell.execute_reply.started": "2021-07-19T20:25:50.190978Z",
          "shell.execute_reply": "2021-07-19T20:25:50.205276Z"
        },
        "trusted": true,
        "id": "yOV9KPdfURVO",
        "outputId": "f9a3ecba-5a8a-44ad-eef6-6fba807bf5c6"
      },
      "source": [
        "train_df['HouseFloor'].sort_values().unique()"
      ],
      "execution_count": null,
      "outputs": [
        {
          "output_type": "execute_result",
          "data": {
            "text/plain": [
              "array([  0.,   1.,   2.,   3.,   4.,   5.,   6.,   7.,   8.,   9.,  10.,\n",
              "        11.,  12.,  13.,  14.,  15.,  16.,  17.,  18.,  19.,  20.,  21.,\n",
              "        22.,  23.,  24.,  25.,  26.,  27.,  28.,  29.,  30.,  31.,  32.,\n",
              "        36.,  37.,  38.,  39.,  40.,  44.,  45.,  47.,  48.,  99., 117.],\n",
              "      dtype=float32)"
            ]
          },
          "metadata": {
            "tags": []
          },
          "execution_count": 497
        }
      ]
    },
    {
      "cell_type": "code",
      "metadata": {
        "execution": {
          "iopub.status.busy": "2021-07-19T20:25:50.207674Z",
          "iopub.execute_input": "2021-07-19T20:25:50.208217Z",
          "iopub.status.idle": "2021-07-19T20:25:50.222142Z",
          "shell.execute_reply.started": "2021-07-19T20:25:50.208168Z",
          "shell.execute_reply": "2021-07-19T20:25:50.221155Z"
        },
        "trusted": true,
        "id": "HzxdI4pQURVO",
        "outputId": "530b972e-161b-4e13-ec1a-d35339158baa"
      },
      "source": [
        "train_df['Floor'].sort_values().unique()"
      ],
      "execution_count": null,
      "outputs": [
        {
          "output_type": "execute_result",
          "data": {
            "text/plain": [
              "array([ 1,  2,  3,  4,  5,  6,  7,  8,  9, 10, 11, 12, 13, 14, 15, 16, 17,\n",
              "       18, 19, 20, 21, 22, 23, 24, 25, 26, 27, 28, 31, 32, 33, 37, 42],\n",
              "      dtype=int8)"
            ]
          },
          "metadata": {
            "tags": []
          },
          "execution_count": 498
        }
      ]
    },
    {
      "cell_type": "code",
      "metadata": {
        "execution": {
          "iopub.status.busy": "2021-07-19T20:25:50.223523Z",
          "iopub.execute_input": "2021-07-19T20:25:50.223839Z",
          "iopub.status.idle": "2021-07-19T20:25:50.234136Z",
          "shell.execute_reply.started": "2021-07-19T20:25:50.223811Z",
          "shell.execute_reply": "2021-07-19T20:25:50.233359Z"
        },
        "trusted": true,
        "id": "B4s5lumTURVP",
        "outputId": "3961e008-c81c-46b7-a417-0b9adb0e086b"
      },
      "source": [
        "(train_df['Floor'] > train_df['HouseFloor']).sum()"
      ],
      "execution_count": null,
      "outputs": [
        {
          "output_type": "execute_result",
          "data": {
            "text/plain": [
              "1825"
            ]
          },
          "metadata": {
            "tags": []
          },
          "execution_count": 499
        }
      ]
    },
    {
      "cell_type": "code",
      "metadata": {
        "execution": {
          "iopub.status.busy": "2021-07-19T20:25:50.235252Z",
          "iopub.execute_input": "2021-07-19T20:25:50.235670Z",
          "iopub.status.idle": "2021-07-19T20:25:50.256589Z",
          "shell.execute_reply.started": "2021-07-19T20:25:50.235630Z",
          "shell.execute_reply": "2021-07-19T20:25:50.255760Z"
        },
        "trusted": true,
        "id": "ZsfFWNk3URVP",
        "outputId": "e28e5e78-a1a7-4fbf-9240-a1debc223374"
      },
      "source": [
        "train_df['HouseFloor_outlier'] = 0\n",
        "train_df.loc[train_df['HouseFloor'] == 0, 'HouseFloor_outlier'] = 1\n",
        "train_df.loc[train_df['Floor'] > train_df['HouseFloor'], 'HouseFloor_outlier'] = 1\n",
        "train_df.loc[train_df['HouseFloor'] == 0, 'HouseFloor'] = train_df['HouseFloor'].median()\n",
        "floor_outliers = train_df.loc[train_df['Floor'] > train_df['HouseFloor']].index\n",
        "floor_outliers"
      ],
      "execution_count": null,
      "outputs": [
        {
          "output_type": "execute_result",
          "data": {
            "text/plain": [
              "Int64Index([  17,   19,   21,   25,   26,   33,   34,   37,   39,   44,\n",
              "            ...\n",
              "            9913, 9921, 9930, 9931, 9938, 9953, 9960, 9968, 9970, 9975],\n",
              "           dtype='int64', length=1610)"
            ]
          },
          "metadata": {
            "tags": []
          },
          "execution_count": 500
        }
      ]
    },
    {
      "cell_type": "code",
      "metadata": {
        "execution": {
          "iopub.status.busy": "2021-07-19T20:25:50.257928Z",
          "iopub.execute_input": "2021-07-19T20:25:50.258335Z",
          "iopub.status.idle": "2021-07-19T20:25:50.272187Z",
          "shell.execute_reply.started": "2021-07-19T20:25:50.258292Z",
          "shell.execute_reply": "2021-07-19T20:25:50.271283Z"
        },
        "trusted": true,
        "id": "0mcNFxwAURVQ"
      },
      "source": [
        "train_df.loc[floor_outliers, 'Floor'] = train_df.loc[floor_outliers, 'HouseFloor']\\\n",
        "                                                .apply(lambda x: random.randint(1, x))"
      ],
      "execution_count": null,
      "outputs": []
    },
    {
      "cell_type": "code",
      "metadata": {
        "execution": {
          "iopub.status.busy": "2021-07-19T20:25:50.273637Z",
          "iopub.execute_input": "2021-07-19T20:25:50.274066Z",
          "iopub.status.idle": "2021-07-19T20:25:50.284406Z",
          "shell.execute_reply.started": "2021-07-19T20:25:50.274024Z",
          "shell.execute_reply": "2021-07-19T20:25:50.283659Z"
        },
        "trusted": true,
        "id": "1hhMbbDyURVS",
        "outputId": "e888fcf1-98cf-4b1b-d90d-c96d76ae2b24"
      },
      "source": [
        "(train_df['Floor'] > train_df['HouseFloor']).sum()"
      ],
      "execution_count": null,
      "outputs": [
        {
          "output_type": "execute_result",
          "data": {
            "text/plain": [
              "0"
            ]
          },
          "metadata": {
            "tags": []
          },
          "execution_count": 502
        }
      ]
    },
    {
      "cell_type": "markdown",
      "metadata": {
        "id": "mnipfxTIURVS"
      },
      "source": [
        "House Year"
      ]
    },
    {
      "cell_type": "code",
      "metadata": {
        "execution": {
          "iopub.status.busy": "2021-07-19T20:25:50.285484Z",
          "iopub.execute_input": "2021-07-19T20:25:50.285755Z",
          "iopub.status.idle": "2021-07-19T20:25:50.297985Z",
          "shell.execute_reply.started": "2021-07-19T20:25:50.285729Z",
          "shell.execute_reply": "2021-07-19T20:25:50.296931Z"
        },
        "trusted": true,
        "id": "AGNoMESYURVT",
        "outputId": "5bb76d1d-24c6-45c2-dffd-0e479962c807"
      },
      "source": [
        "train_df['HouseYear'].sort_values(ascending=False)"
      ],
      "execution_count": null,
      "outputs": [
        {
          "output_type": "execute_result",
          "data": {
            "text/plain": [
              "9163    20052011\n",
              "8828        4968\n",
              "7721        2020\n",
              "9122        2020\n",
              "7955        2020\n",
              "          ...   \n",
              "7610        1916\n",
              "6250        1914\n",
              "2066        1912\n",
              "2795        1912\n",
              "6794        1910\n",
              "Name: HouseYear, Length: 10000, dtype: int32"
            ]
          },
          "metadata": {
            "tags": []
          },
          "execution_count": 503
        }
      ]
    },
    {
      "cell_type": "code",
      "metadata": {
        "execution": {
          "iopub.status.busy": "2021-07-19T20:25:50.299391Z",
          "iopub.execute_input": "2021-07-19T20:25:50.299692Z",
          "iopub.status.idle": "2021-07-19T20:25:50.305965Z",
          "shell.execute_reply.started": "2021-07-19T20:25:50.299663Z",
          "shell.execute_reply": "2021-07-19T20:25:50.304949Z"
        },
        "trusted": true,
        "id": "7dP3oupaURVT"
      },
      "source": [
        "train_df.loc[train_df['HouseYear'] > 2020, 'HouseYear'] = 2020"
      ],
      "execution_count": null,
      "outputs": []
    },
    {
      "cell_type": "code",
      "metadata": {
        "execution": {
          "iopub.status.busy": "2021-07-19T20:25:50.307204Z",
          "iopub.execute_input": "2021-07-19T20:25:50.307594Z",
          "iopub.status.idle": "2021-07-19T20:25:50.328250Z",
          "shell.execute_reply.started": "2021-07-19T20:25:50.307562Z",
          "shell.execute_reply": "2021-07-19T20:25:50.327424Z"
        },
        "trusted": true,
        "id": "pz3ojbMAURVU",
        "outputId": "a28029c6-599f-4808-bab2-2a12100009c6"
      },
      "source": [
        "train_df.isna().sum()"
      ],
      "execution_count": null,
      "outputs": [
        {
          "output_type": "execute_result",
          "data": {
            "text/plain": [
              "Id                       0\n",
              "DistrictId               0\n",
              "Rooms                    0\n",
              "Square                   0\n",
              "LifeSquare            2113\n",
              "KitchenSquare            0\n",
              "Floor                    0\n",
              "HouseFloor               0\n",
              "HouseYear                0\n",
              "Ecology_1                0\n",
              "Ecology_2                0\n",
              "Ecology_3                0\n",
              "Social_1                 0\n",
              "Social_2                 0\n",
              "Social_3                 0\n",
              "Healthcare_1          4798\n",
              "Helthcare_2              0\n",
              "Shops_1                  0\n",
              "Shops_2                  0\n",
              "Price                    0\n",
              "Rooms_outlier            0\n",
              "HouseFloor_outlier       0\n",
              "dtype: int64"
            ]
          },
          "metadata": {
            "tags": []
          },
          "execution_count": 505
        }
      ]
    },
    {
      "cell_type": "code",
      "metadata": {
        "execution": {
          "iopub.status.busy": "2021-07-19T20:25:50.330918Z",
          "iopub.execute_input": "2021-07-19T20:25:50.331625Z",
          "iopub.status.idle": "2021-07-19T20:25:50.347744Z",
          "shell.execute_reply.started": "2021-07-19T20:25:50.331574Z",
          "shell.execute_reply": "2021-07-19T20:25:50.346677Z"
        },
        "trusted": true,
        "id": "8Tyns10oURVU",
        "outputId": "906d3dc4-f5d9-4714-ba1e-41b60feb5416"
      },
      "source": [
        "train_df[['Square', 'LifeSquare', 'KitchenSquare']].head(10)"
      ],
      "execution_count": null,
      "outputs": [
        {
          "output_type": "execute_result",
          "data": {
            "text/plain": [
              "       Square  LifeSquare  KitchenSquare\n",
              "0  115.027313         NaN           10.0\n",
              "1   39.832523   23.169222            8.0\n",
              "2   78.342216   47.671970           10.0\n",
              "3   40.409908         NaN            3.0\n",
              "4   64.285065   38.562515            9.0\n",
              "5   62.528465   47.103832            6.0\n",
              "6   33.938751   21.772930            9.0\n",
              "7   50.391815   32.893257            8.0\n",
              "8   46.887894   44.628132            3.0\n",
              "9   79.867477   75.085129            3.0"
            ],
            "text/html": [
              "<div>\n",
              "<style scoped>\n",
              "    .dataframe tbody tr th:only-of-type {\n",
              "        vertical-align: middle;\n",
              "    }\n",
              "\n",
              "    .dataframe tbody tr th {\n",
              "        vertical-align: top;\n",
              "    }\n",
              "\n",
              "    .dataframe thead th {\n",
              "        text-align: right;\n",
              "    }\n",
              "</style>\n",
              "<table border=\"1\" class=\"dataframe\">\n",
              "  <thead>\n",
              "    <tr style=\"text-align: right;\">\n",
              "      <th></th>\n",
              "      <th>Square</th>\n",
              "      <th>LifeSquare</th>\n",
              "      <th>KitchenSquare</th>\n",
              "    </tr>\n",
              "  </thead>\n",
              "  <tbody>\n",
              "    <tr>\n",
              "      <th>0</th>\n",
              "      <td>115.027313</td>\n",
              "      <td>NaN</td>\n",
              "      <td>10.0</td>\n",
              "    </tr>\n",
              "    <tr>\n",
              "      <th>1</th>\n",
              "      <td>39.832523</td>\n",
              "      <td>23.169222</td>\n",
              "      <td>8.0</td>\n",
              "    </tr>\n",
              "    <tr>\n",
              "      <th>2</th>\n",
              "      <td>78.342216</td>\n",
              "      <td>47.671970</td>\n",
              "      <td>10.0</td>\n",
              "    </tr>\n",
              "    <tr>\n",
              "      <th>3</th>\n",
              "      <td>40.409908</td>\n",
              "      <td>NaN</td>\n",
              "      <td>3.0</td>\n",
              "    </tr>\n",
              "    <tr>\n",
              "      <th>4</th>\n",
              "      <td>64.285065</td>\n",
              "      <td>38.562515</td>\n",
              "      <td>9.0</td>\n",
              "    </tr>\n",
              "    <tr>\n",
              "      <th>5</th>\n",
              "      <td>62.528465</td>\n",
              "      <td>47.103832</td>\n",
              "      <td>6.0</td>\n",
              "    </tr>\n",
              "    <tr>\n",
              "      <th>6</th>\n",
              "      <td>33.938751</td>\n",
              "      <td>21.772930</td>\n",
              "      <td>9.0</td>\n",
              "    </tr>\n",
              "    <tr>\n",
              "      <th>7</th>\n",
              "      <td>50.391815</td>\n",
              "      <td>32.893257</td>\n",
              "      <td>8.0</td>\n",
              "    </tr>\n",
              "    <tr>\n",
              "      <th>8</th>\n",
              "      <td>46.887894</td>\n",
              "      <td>44.628132</td>\n",
              "      <td>3.0</td>\n",
              "    </tr>\n",
              "    <tr>\n",
              "      <th>9</th>\n",
              "      <td>79.867477</td>\n",
              "      <td>75.085129</td>\n",
              "      <td>3.0</td>\n",
              "    </tr>\n",
              "  </tbody>\n",
              "</table>\n",
              "</div>"
            ]
          },
          "metadata": {
            "tags": []
          },
          "execution_count": 506
        }
      ]
    },
    {
      "cell_type": "markdown",
      "metadata": {
        "id": "FAlR0wGIURVU"
      },
      "source": [
        "Healthcare_1"
      ]
    },
    {
      "cell_type": "code",
      "metadata": {
        "execution": {
          "iopub.status.busy": "2021-07-19T20:25:50.349304Z",
          "iopub.execute_input": "2021-07-19T20:25:50.349643Z",
          "iopub.status.idle": "2021-07-19T20:25:50.363995Z",
          "shell.execute_reply.started": "2021-07-19T20:25:50.349611Z",
          "shell.execute_reply": "2021-07-19T20:25:50.363020Z"
        },
        "trusted": true,
        "id": "BfDfJ5fUURVV"
      },
      "source": [
        "train_df.drop('Healthcare_1', axis=1, inplace=True)"
      ],
      "execution_count": null,
      "outputs": []
    },
    {
      "cell_type": "markdown",
      "metadata": {
        "id": "wFpOq-jvURVV"
      },
      "source": [
        "LifeSquare"
      ]
    },
    {
      "cell_type": "code",
      "metadata": {
        "execution": {
          "iopub.status.busy": "2021-07-19T20:25:50.365348Z",
          "iopub.execute_input": "2021-07-19T20:25:50.365655Z",
          "iopub.status.idle": "2021-07-19T20:25:50.380235Z",
          "shell.execute_reply.started": "2021-07-19T20:25:50.365626Z",
          "shell.execute_reply": "2021-07-19T20:25:50.379383Z"
        },
        "trusted": true,
        "id": "aG8J-zS-URVV"
      },
      "source": [
        "train_df['LifeSquare_nan'] = train_df['LifeSquare'].isna() * 1\n",
        "\n",
        "condition = (train_df['LifeSquare'].isna()) \\\n",
        "             & (~train_df['Square'].isna()) \\\n",
        "             & (~train_df['KitchenSquare'].isna())\n",
        "        \n",
        "train_df.loc[condition, 'LifeSquare'] = train_df.loc[condition, 'Square'] \\\n",
        "                                            - train_df.loc[condition, 'KitchenSquare'] - 3"
      ],
      "execution_count": null,
      "outputs": []
    },
    {
      "cell_type": "markdown",
      "metadata": {
        "id": "SA63cChQURVW"
      },
      "source": [
        "упаковка кода в пакет"
      ]
    },
    {
      "cell_type": "code",
      "metadata": {
        "execution": {
          "iopub.status.busy": "2021-07-19T20:25:50.381492Z",
          "iopub.execute_input": "2021-07-19T20:25:50.381776Z",
          "iopub.status.idle": "2021-07-19T20:25:50.399631Z",
          "shell.execute_reply.started": "2021-07-19T20:25:50.381748Z",
          "shell.execute_reply": "2021-07-19T20:25:50.398845Z"
        },
        "trusted": true,
        "id": "8WSn4bD9URVW"
      },
      "source": [
        "class DataPreprocessing:\n",
        "    \"\"\"Подготовка исходных данных\"\"\"\n",
        "\n",
        "    def __init__(self):\n",
        "        \"\"\"Параметры класса\"\"\"\n",
        "        self.medians = None\n",
        "        self.kitchen_square_quantile = None\n",
        "        \n",
        "    def fit(self, X):\n",
        "        \"\"\"Сохранение статистик\"\"\"       \n",
        "        # Расчет медиан\n",
        "        self.medians = X.median()\n",
        "        self.kitchen_square_quantile = X['KitchenSquare'].quantile(.975)\n",
        "    \n",
        "    def transform(self, X):\n",
        "        \"\"\"Трансформация данных\"\"\"\n",
        "\n",
        "        # Rooms\n",
        "        X['Rooms_outlier'] = 0\n",
        "        X.loc[(X['Rooms'] == 0) | (X['Rooms'] >= 6), 'Rooms_outlier'] = 1\n",
        "        \n",
        "        X.loc[X['Rooms'] == 0, 'Rooms'] = 1\n",
        "        X.loc[X['Rooms'] >= 6, 'Rooms'] = self.medians['Rooms']\n",
        "        \n",
        "        # KitchenSquare\n",
        "        condition = (X['KitchenSquare'].isna()) \\\n",
        "                    | (X['KitchenSquare'] > self.kitchen_square_quantile)\n",
        "        \n",
        "        X.loc[condition, 'KitchenSquare'] = self.medians['KitchenSquare']\n",
        "\n",
        "        X.loc[X['KitchenSquare'] < 3, 'KitchenSquare'] = 3\n",
        "        \n",
        "        # HouseFloor, Floor\n",
        "        X['HouseFloor_outlier'] = 0\n",
        "        X.loc[X['HouseFloor'] == 0, 'HouseFloor_outlier'] = 1\n",
        "        X.loc[X['Floor'] > X['HouseFloor'], 'HouseFloor_outlier'] = 1\n",
        "        \n",
        "        X.loc[X['HouseFloor'] == 0, 'HouseFloor'] = self.medians['HouseFloor']\n",
        "        \n",
        "        floor_outliers = X.loc[X['Floor'] > X['HouseFloor']].index\n",
        "        X.loc[floor_outliers, 'Floor'] = X.loc[floor_outliers, 'HouseFloor']\\\n",
        "                                            .apply(lambda x: random.randint(1, x))\n",
        "        \n",
        "        # HouseYear\n",
        "        current_year = datetime.now().year\n",
        "        \n",
        "        X['HouseYear_outlier'] = 0\n",
        "        X.loc[X['HouseYear'] > current_year, 'HouseYear_outlier'] = 1\n",
        "        \n",
        "        X.loc[X['HouseYear'] > current_year, 'HouseYear'] = current_year\n",
        "        \n",
        "        # Healthcare_1\n",
        "        if 'Healthcare_1' in X.columns:\n",
        "            X.drop('Healthcare_1', axis=1, inplace=True)\n",
        "            \n",
        "        # LifeSquare\n",
        "        X['LifeSquare_nan'] = X['LifeSquare'].isna() * 1\n",
        "        condition = (X['LifeSquare'].isna()) & \\\n",
        "                      (~X['Square'].isna()) & \\\n",
        "                      (~X['KitchenSquare'].isna())\n",
        "        \n",
        "        X.loc[condition, 'LifeSquare'] = X.loc[condition, 'Square'] - X.loc[condition, 'KitchenSquare'] - 3\n",
        "        \n",
        "        \n",
        "        X.fillna(self.medians, inplace=True)\n",
        "        \n",
        "        return X"
      ],
      "execution_count": null,
      "outputs": []
    },
    {
      "cell_type": "markdown",
      "metadata": {
        "id": "5wDldg90URVX"
      },
      "source": [
        "4. Построение новых признаков\n"
      ]
    },
    {
      "cell_type": "markdown",
      "metadata": {
        "id": "fQjowQInURVX"
      },
      "source": [
        "Dummies"
      ]
    },
    {
      "cell_type": "code",
      "metadata": {
        "execution": {
          "iopub.status.busy": "2021-07-19T20:25:50.400944Z",
          "iopub.execute_input": "2021-07-19T20:25:50.401527Z",
          "iopub.status.idle": "2021-07-19T20:25:50.431845Z",
          "shell.execute_reply.started": "2021-07-19T20:25:50.401482Z",
          "shell.execute_reply": "2021-07-19T20:25:50.431016Z"
        },
        "trusted": true,
        "id": "RdkWL2U5URVX"
      },
      "source": [
        "binary_to_numbers = {'A': 0, 'B': 1}\n",
        "\n",
        "train_df['Ecology_2'] = train_df['Ecology_2'].replace(binary_to_numbers)\n",
        "train_df['Ecology_3'] = train_df['Ecology_3'].replace(binary_to_numbers)\n",
        "train_df['Shops_2'] = train_df['Shops_2'].replace(binary_to_numbers)"
      ],
      "execution_count": null,
      "outputs": []
    },
    {
      "cell_type": "markdown",
      "metadata": {
        "id": "zsYqumuBURVY"
      },
      "source": [
        "DistrictSize, IsDistrictLarge"
      ]
    },
    {
      "cell_type": "code",
      "metadata": {
        "execution": {
          "iopub.status.busy": "2021-07-19T20:25:50.433614Z",
          "iopub.execute_input": "2021-07-19T20:25:50.434294Z",
          "iopub.status.idle": "2021-07-19T20:25:50.451714Z",
          "shell.execute_reply.started": "2021-07-19T20:25:50.434247Z",
          "shell.execute_reply": "2021-07-19T20:25:50.450533Z"
        },
        "trusted": true,
        "id": "IXChwOFCURVY",
        "outputId": "543a57d8-c8a1-430f-8278-351e79387cc9"
      },
      "source": [
        "district_size = train_df['DistrictId'].value_counts().reset_index()\\\n",
        "                    .rename(columns={'index':'DistrictId', 'DistrictId':'DistrictSize'})\n",
        "\n",
        "district_size.head()"
      ],
      "execution_count": null,
      "outputs": [
        {
          "output_type": "execute_result",
          "data": {
            "text/plain": [
              "  DistrictId  DistrictSize\n",
              "0         27           851\n",
              "1          1           652\n",
              "2         23           565\n",
              "3          6           511\n",
              "4          9           294"
            ],
            "text/html": [
              "<div>\n",
              "<style scoped>\n",
              "    .dataframe tbody tr th:only-of-type {\n",
              "        vertical-align: middle;\n",
              "    }\n",
              "\n",
              "    .dataframe tbody tr th {\n",
              "        vertical-align: top;\n",
              "    }\n",
              "\n",
              "    .dataframe thead th {\n",
              "        text-align: right;\n",
              "    }\n",
              "</style>\n",
              "<table border=\"1\" class=\"dataframe\">\n",
              "  <thead>\n",
              "    <tr style=\"text-align: right;\">\n",
              "      <th></th>\n",
              "      <th>DistrictId</th>\n",
              "      <th>DistrictSize</th>\n",
              "    </tr>\n",
              "  </thead>\n",
              "  <tbody>\n",
              "    <tr>\n",
              "      <th>0</th>\n",
              "      <td>27</td>\n",
              "      <td>851</td>\n",
              "    </tr>\n",
              "    <tr>\n",
              "      <th>1</th>\n",
              "      <td>1</td>\n",
              "      <td>652</td>\n",
              "    </tr>\n",
              "    <tr>\n",
              "      <th>2</th>\n",
              "      <td>23</td>\n",
              "      <td>565</td>\n",
              "    </tr>\n",
              "    <tr>\n",
              "      <th>3</th>\n",
              "      <td>6</td>\n",
              "      <td>511</td>\n",
              "    </tr>\n",
              "    <tr>\n",
              "      <th>4</th>\n",
              "      <td>9</td>\n",
              "      <td>294</td>\n",
              "    </tr>\n",
              "  </tbody>\n",
              "</table>\n",
              "</div>"
            ]
          },
          "metadata": {
            "tags": []
          },
          "execution_count": 511
        }
      ]
    },
    {
      "cell_type": "code",
      "metadata": {
        "execution": {
          "iopub.status.busy": "2021-07-19T20:25:50.453521Z",
          "iopub.execute_input": "2021-07-19T20:25:50.453942Z",
          "iopub.status.idle": "2021-07-19T20:25:50.497763Z",
          "shell.execute_reply.started": "2021-07-19T20:25:50.453900Z",
          "shell.execute_reply": "2021-07-19T20:25:50.496673Z"
        },
        "trusted": true,
        "id": "2Xo1mnXEURVY",
        "outputId": "82c4d2b4-7213-4755-a772-c30ea1c80186"
      },
      "source": [
        "train_df = train_df.merge(district_size, on='DistrictId', how='left')\n",
        "train_df.head()"
      ],
      "execution_count": null,
      "outputs": [
        {
          "output_type": "execute_result",
          "data": {
            "text/plain": [
              "      Id DistrictId  Rooms      Square  LifeSquare  KitchenSquare  Floor  \\\n",
              "0  11809         27    3.0  115.027313  102.027313           10.0      4   \n",
              "1   3013         22    1.0   39.832523   23.169222            8.0      7   \n",
              "2   8215          1    3.0   78.342216   47.671970           10.0      2   \n",
              "3   2352          1    1.0   40.409908   34.409908            3.0     10   \n",
              "4  13866         94    2.0   64.285065   38.562515            9.0     16   \n",
              "\n",
              "   HouseFloor  HouseYear  Ecology_1  ...  Social_2  Social_3  Helthcare_2  \\\n",
              "0        10.0       2014   0.075424  ...      3097         0            0   \n",
              "1         8.0       1966   0.118537  ...      6207         1            1   \n",
              "2        17.0       1988   0.025609  ...      5261         0            3   \n",
              "3        22.0       1977   0.007122  ...       264         0            0   \n",
              "4        16.0       1972   0.282798  ...      8667         2            0   \n",
              "\n",
              "   Shops_1  Shops_2          Price  Rooms_outlier  HouseFloor_outlier  \\\n",
              "0        0        1  305018.875000              0                   0   \n",
              "1        0        1  177734.546875              0                   0   \n",
              "2        1        1  282078.718750              0                   0   \n",
              "3        1        1  168106.000000              0                   0   \n",
              "4        6        1  343995.093750              0                   0   \n",
              "\n",
              "   LifeSquare_nan  DistrictSize  \n",
              "0               1           851  \n",
              "1               0            78  \n",
              "2               0           652  \n",
              "3               1           652  \n",
              "4               0            89  \n",
              "\n",
              "[5 rows x 23 columns]"
            ],
            "text/html": [
              "<div>\n",
              "<style scoped>\n",
              "    .dataframe tbody tr th:only-of-type {\n",
              "        vertical-align: middle;\n",
              "    }\n",
              "\n",
              "    .dataframe tbody tr th {\n",
              "        vertical-align: top;\n",
              "    }\n",
              "\n",
              "    .dataframe thead th {\n",
              "        text-align: right;\n",
              "    }\n",
              "</style>\n",
              "<table border=\"1\" class=\"dataframe\">\n",
              "  <thead>\n",
              "    <tr style=\"text-align: right;\">\n",
              "      <th></th>\n",
              "      <th>Id</th>\n",
              "      <th>DistrictId</th>\n",
              "      <th>Rooms</th>\n",
              "      <th>Square</th>\n",
              "      <th>LifeSquare</th>\n",
              "      <th>KitchenSquare</th>\n",
              "      <th>Floor</th>\n",
              "      <th>HouseFloor</th>\n",
              "      <th>HouseYear</th>\n",
              "      <th>Ecology_1</th>\n",
              "      <th>...</th>\n",
              "      <th>Social_2</th>\n",
              "      <th>Social_3</th>\n",
              "      <th>Helthcare_2</th>\n",
              "      <th>Shops_1</th>\n",
              "      <th>Shops_2</th>\n",
              "      <th>Price</th>\n",
              "      <th>Rooms_outlier</th>\n",
              "      <th>HouseFloor_outlier</th>\n",
              "      <th>LifeSquare_nan</th>\n",
              "      <th>DistrictSize</th>\n",
              "    </tr>\n",
              "  </thead>\n",
              "  <tbody>\n",
              "    <tr>\n",
              "      <th>0</th>\n",
              "      <td>11809</td>\n",
              "      <td>27</td>\n",
              "      <td>3.0</td>\n",
              "      <td>115.027313</td>\n",
              "      <td>102.027313</td>\n",
              "      <td>10.0</td>\n",
              "      <td>4</td>\n",
              "      <td>10.0</td>\n",
              "      <td>2014</td>\n",
              "      <td>0.075424</td>\n",
              "      <td>...</td>\n",
              "      <td>3097</td>\n",
              "      <td>0</td>\n",
              "      <td>0</td>\n",
              "      <td>0</td>\n",
              "      <td>1</td>\n",
              "      <td>305018.875000</td>\n",
              "      <td>0</td>\n",
              "      <td>0</td>\n",
              "      <td>1</td>\n",
              "      <td>851</td>\n",
              "    </tr>\n",
              "    <tr>\n",
              "      <th>1</th>\n",
              "      <td>3013</td>\n",
              "      <td>22</td>\n",
              "      <td>1.0</td>\n",
              "      <td>39.832523</td>\n",
              "      <td>23.169222</td>\n",
              "      <td>8.0</td>\n",
              "      <td>7</td>\n",
              "      <td>8.0</td>\n",
              "      <td>1966</td>\n",
              "      <td>0.118537</td>\n",
              "      <td>...</td>\n",
              "      <td>6207</td>\n",
              "      <td>1</td>\n",
              "      <td>1</td>\n",
              "      <td>0</td>\n",
              "      <td>1</td>\n",
              "      <td>177734.546875</td>\n",
              "      <td>0</td>\n",
              "      <td>0</td>\n",
              "      <td>0</td>\n",
              "      <td>78</td>\n",
              "    </tr>\n",
              "    <tr>\n",
              "      <th>2</th>\n",
              "      <td>8215</td>\n",
              "      <td>1</td>\n",
              "      <td>3.0</td>\n",
              "      <td>78.342216</td>\n",
              "      <td>47.671970</td>\n",
              "      <td>10.0</td>\n",
              "      <td>2</td>\n",
              "      <td>17.0</td>\n",
              "      <td>1988</td>\n",
              "      <td>0.025609</td>\n",
              "      <td>...</td>\n",
              "      <td>5261</td>\n",
              "      <td>0</td>\n",
              "      <td>3</td>\n",
              "      <td>1</td>\n",
              "      <td>1</td>\n",
              "      <td>282078.718750</td>\n",
              "      <td>0</td>\n",
              "      <td>0</td>\n",
              "      <td>0</td>\n",
              "      <td>652</td>\n",
              "    </tr>\n",
              "    <tr>\n",
              "      <th>3</th>\n",
              "      <td>2352</td>\n",
              "      <td>1</td>\n",
              "      <td>1.0</td>\n",
              "      <td>40.409908</td>\n",
              "      <td>34.409908</td>\n",
              "      <td>3.0</td>\n",
              "      <td>10</td>\n",
              "      <td>22.0</td>\n",
              "      <td>1977</td>\n",
              "      <td>0.007122</td>\n",
              "      <td>...</td>\n",
              "      <td>264</td>\n",
              "      <td>0</td>\n",
              "      <td>0</td>\n",
              "      <td>1</td>\n",
              "      <td>1</td>\n",
              "      <td>168106.000000</td>\n",
              "      <td>0</td>\n",
              "      <td>0</td>\n",
              "      <td>1</td>\n",
              "      <td>652</td>\n",
              "    </tr>\n",
              "    <tr>\n",
              "      <th>4</th>\n",
              "      <td>13866</td>\n",
              "      <td>94</td>\n",
              "      <td>2.0</td>\n",
              "      <td>64.285065</td>\n",
              "      <td>38.562515</td>\n",
              "      <td>9.0</td>\n",
              "      <td>16</td>\n",
              "      <td>16.0</td>\n",
              "      <td>1972</td>\n",
              "      <td>0.282798</td>\n",
              "      <td>...</td>\n",
              "      <td>8667</td>\n",
              "      <td>2</td>\n",
              "      <td>0</td>\n",
              "      <td>6</td>\n",
              "      <td>1</td>\n",
              "      <td>343995.093750</td>\n",
              "      <td>0</td>\n",
              "      <td>0</td>\n",
              "      <td>0</td>\n",
              "      <td>89</td>\n",
              "    </tr>\n",
              "  </tbody>\n",
              "</table>\n",
              "<p>5 rows × 23 columns</p>\n",
              "</div>"
            ]
          },
          "metadata": {
            "tags": []
          },
          "execution_count": 512
        }
      ]
    },
    {
      "cell_type": "code",
      "metadata": {
        "execution": {
          "iopub.status.busy": "2021-07-19T20:25:50.499981Z",
          "iopub.execute_input": "2021-07-19T20:25:50.500459Z",
          "iopub.status.idle": "2021-07-19T20:25:50.511527Z",
          "shell.execute_reply.started": "2021-07-19T20:25:50.500395Z",
          "shell.execute_reply": "2021-07-19T20:25:50.510247Z"
        },
        "trusted": true,
        "id": "wWMKKpLwURVZ",
        "outputId": "a020b86b-9eeb-473f-e3e4-5cbd199d649d"
      },
      "source": [
        "(train_df['DistrictSize'] > 100).value_counts()"
      ],
      "execution_count": null,
      "outputs": [
        {
          "output_type": "execute_result",
          "data": {
            "text/plain": [
              "True     5069\n",
              "False    4931\n",
              "Name: DistrictSize, dtype: int64"
            ]
          },
          "metadata": {
            "tags": []
          },
          "execution_count": 513
        }
      ]
    },
    {
      "cell_type": "code",
      "metadata": {
        "execution": {
          "iopub.status.busy": "2021-07-19T20:25:50.531122Z",
          "iopub.execute_input": "2021-07-19T20:25:50.531505Z",
          "iopub.status.idle": "2021-07-19T20:25:50.537792Z",
          "shell.execute_reply.started": "2021-07-19T20:25:50.531469Z",
          "shell.execute_reply": "2021-07-19T20:25:50.536805Z"
        },
        "trusted": true,
        "id": "OC6o1ZWEURVa"
      },
      "source": [
        "train_df['IsDistrictLarge'] = (train_df['DistrictSize'] > 100).astype(int)"
      ],
      "execution_count": null,
      "outputs": []
    },
    {
      "cell_type": "markdown",
      "metadata": {
        "id": "VrxxUsPrURVb"
      },
      "source": [
        "MedPriceByDistrict"
      ]
    },
    {
      "cell_type": "code",
      "metadata": {
        "execution": {
          "iopub.status.busy": "2021-07-19T20:25:50.606252Z",
          "iopub.execute_input": "2021-07-19T20:25:50.606627Z",
          "iopub.status.idle": "2021-07-19T20:25:50.630029Z",
          "shell.execute_reply.started": "2021-07-19T20:25:50.606594Z",
          "shell.execute_reply": "2021-07-19T20:25:50.629301Z"
        },
        "trusted": true,
        "id": "C29ooYXMURVb",
        "outputId": "7a1cfacb-2804-40b8-a002-3f313e1cf266"
      },
      "source": [
        "med_price_by_district = train_df.groupby(['DistrictId', 'Rooms'], as_index=False).agg({'Price':'median'})\\\n",
        "                            .rename(columns={'Price':'MedPriceByDistrict'})\n",
        "\n",
        "med_price_by_district.head()"
      ],
      "execution_count": null,
      "outputs": [
        {
          "output_type": "execute_result",
          "data": {
            "text/plain": [
              "  DistrictId  Rooms  MedPriceByDistrict\n",
              "0          0    1.0       142799.437500\n",
              "1          0    2.0       176210.812500\n",
              "2          0    3.0       300610.375000\n",
              "3          1    1.0       146735.671875\n",
              "4          1    2.0       202666.312500"
            ],
            "text/html": [
              "<div>\n",
              "<style scoped>\n",
              "    .dataframe tbody tr th:only-of-type {\n",
              "        vertical-align: middle;\n",
              "    }\n",
              "\n",
              "    .dataframe tbody tr th {\n",
              "        vertical-align: top;\n",
              "    }\n",
              "\n",
              "    .dataframe thead th {\n",
              "        text-align: right;\n",
              "    }\n",
              "</style>\n",
              "<table border=\"1\" class=\"dataframe\">\n",
              "  <thead>\n",
              "    <tr style=\"text-align: right;\">\n",
              "      <th></th>\n",
              "      <th>DistrictId</th>\n",
              "      <th>Rooms</th>\n",
              "      <th>MedPriceByDistrict</th>\n",
              "    </tr>\n",
              "  </thead>\n",
              "  <tbody>\n",
              "    <tr>\n",
              "      <th>0</th>\n",
              "      <td>0</td>\n",
              "      <td>1.0</td>\n",
              "      <td>142799.437500</td>\n",
              "    </tr>\n",
              "    <tr>\n",
              "      <th>1</th>\n",
              "      <td>0</td>\n",
              "      <td>2.0</td>\n",
              "      <td>176210.812500</td>\n",
              "    </tr>\n",
              "    <tr>\n",
              "      <th>2</th>\n",
              "      <td>0</td>\n",
              "      <td>3.0</td>\n",
              "      <td>300610.375000</td>\n",
              "    </tr>\n",
              "    <tr>\n",
              "      <th>3</th>\n",
              "      <td>1</td>\n",
              "      <td>1.0</td>\n",
              "      <td>146735.671875</td>\n",
              "    </tr>\n",
              "    <tr>\n",
              "      <th>4</th>\n",
              "      <td>1</td>\n",
              "      <td>2.0</td>\n",
              "      <td>202666.312500</td>\n",
              "    </tr>\n",
              "  </tbody>\n",
              "</table>\n",
              "</div>"
            ]
          },
          "metadata": {
            "tags": []
          },
          "execution_count": 515
        }
      ]
    },
    {
      "cell_type": "code",
      "metadata": {
        "execution": {
          "iopub.status.busy": "2021-07-19T20:25:50.646552Z",
          "iopub.execute_input": "2021-07-19T20:25:50.646895Z",
          "iopub.status.idle": "2021-07-19T20:25:50.653275Z",
          "shell.execute_reply.started": "2021-07-19T20:25:50.646866Z",
          "shell.execute_reply": "2021-07-19T20:25:50.652122Z"
        },
        "trusted": true,
        "id": "_ixY3GtZURVc",
        "outputId": "7629d90b-6d5a-4ee6-b81a-e744b186e393"
      },
      "source": [
        "med_price_by_district.shape"
      ],
      "execution_count": null,
      "outputs": [
        {
          "output_type": "execute_result",
          "data": {
            "text/plain": [
              "(667, 3)"
            ]
          },
          "metadata": {
            "tags": []
          },
          "execution_count": 516
        }
      ]
    },
    {
      "cell_type": "code",
      "metadata": {
        "execution": {
          "iopub.status.busy": "2021-07-19T20:25:50.727396Z",
          "iopub.execute_input": "2021-07-19T20:25:50.727760Z",
          "iopub.status.idle": "2021-07-19T20:25:50.776584Z",
          "shell.execute_reply.started": "2021-07-19T20:25:50.727729Z",
          "shell.execute_reply": "2021-07-19T20:25:50.775552Z"
        },
        "trusted": true,
        "id": "EYYl1fKrURVd",
        "outputId": "5b5fd601-a2df-4a1d-b655-16651eafa0fc"
      },
      "source": [
        "train_df = train_df.merge(med_price_by_district, on=['DistrictId', 'Rooms'], how='left')\n",
        "train_df.head()"
      ],
      "execution_count": null,
      "outputs": [
        {
          "output_type": "execute_result",
          "data": {
            "text/plain": [
              "      Id DistrictId  Rooms      Square  LifeSquare  KitchenSquare  Floor  \\\n",
              "0  11809         27    3.0  115.027313  102.027313           10.0      4   \n",
              "1   3013         22    1.0   39.832523   23.169222            8.0      7   \n",
              "2   8215          1    3.0   78.342216   47.671970           10.0      2   \n",
              "3   2352          1    1.0   40.409908   34.409908            3.0     10   \n",
              "4  13866         94    2.0   64.285065   38.562515            9.0     16   \n",
              "\n",
              "   HouseFloor  HouseYear  Ecology_1  ...  Helthcare_2  Shops_1  Shops_2  \\\n",
              "0        10.0       2014   0.075424  ...            0        0        1   \n",
              "1         8.0       1966   0.118537  ...            1        0        1   \n",
              "2        17.0       1988   0.025609  ...            3        1        1   \n",
              "3        22.0       1977   0.007122  ...            0        1        1   \n",
              "4        16.0       1972   0.282798  ...            0        6        1   \n",
              "\n",
              "           Price  Rooms_outlier  HouseFloor_outlier  LifeSquare_nan  \\\n",
              "0  305018.875000              0                   0               1   \n",
              "1  177734.546875              0                   0               0   \n",
              "2  282078.718750              0                   0               0   \n",
              "3  168106.000000              0                   0               1   \n",
              "4  343995.093750              0                   0               0   \n",
              "\n",
              "   DistrictSize  IsDistrictLarge  MedPriceByDistrict  \n",
              "0           851                1       213530.781250  \n",
              "1            78                0       146032.828125  \n",
              "2           652                1       244005.281250  \n",
              "3           652                1       146735.671875  \n",
              "4            89                0       201584.437500  \n",
              "\n",
              "[5 rows x 25 columns]"
            ],
            "text/html": [
              "<div>\n",
              "<style scoped>\n",
              "    .dataframe tbody tr th:only-of-type {\n",
              "        vertical-align: middle;\n",
              "    }\n",
              "\n",
              "    .dataframe tbody tr th {\n",
              "        vertical-align: top;\n",
              "    }\n",
              "\n",
              "    .dataframe thead th {\n",
              "        text-align: right;\n",
              "    }\n",
              "</style>\n",
              "<table border=\"1\" class=\"dataframe\">\n",
              "  <thead>\n",
              "    <tr style=\"text-align: right;\">\n",
              "      <th></th>\n",
              "      <th>Id</th>\n",
              "      <th>DistrictId</th>\n",
              "      <th>Rooms</th>\n",
              "      <th>Square</th>\n",
              "      <th>LifeSquare</th>\n",
              "      <th>KitchenSquare</th>\n",
              "      <th>Floor</th>\n",
              "      <th>HouseFloor</th>\n",
              "      <th>HouseYear</th>\n",
              "      <th>Ecology_1</th>\n",
              "      <th>...</th>\n",
              "      <th>Helthcare_2</th>\n",
              "      <th>Shops_1</th>\n",
              "      <th>Shops_2</th>\n",
              "      <th>Price</th>\n",
              "      <th>Rooms_outlier</th>\n",
              "      <th>HouseFloor_outlier</th>\n",
              "      <th>LifeSquare_nan</th>\n",
              "      <th>DistrictSize</th>\n",
              "      <th>IsDistrictLarge</th>\n",
              "      <th>MedPriceByDistrict</th>\n",
              "    </tr>\n",
              "  </thead>\n",
              "  <tbody>\n",
              "    <tr>\n",
              "      <th>0</th>\n",
              "      <td>11809</td>\n",
              "      <td>27</td>\n",
              "      <td>3.0</td>\n",
              "      <td>115.027313</td>\n",
              "      <td>102.027313</td>\n",
              "      <td>10.0</td>\n",
              "      <td>4</td>\n",
              "      <td>10.0</td>\n",
              "      <td>2014</td>\n",
              "      <td>0.075424</td>\n",
              "      <td>...</td>\n",
              "      <td>0</td>\n",
              "      <td>0</td>\n",
              "      <td>1</td>\n",
              "      <td>305018.875000</td>\n",
              "      <td>0</td>\n",
              "      <td>0</td>\n",
              "      <td>1</td>\n",
              "      <td>851</td>\n",
              "      <td>1</td>\n",
              "      <td>213530.781250</td>\n",
              "    </tr>\n",
              "    <tr>\n",
              "      <th>1</th>\n",
              "      <td>3013</td>\n",
              "      <td>22</td>\n",
              "      <td>1.0</td>\n",
              "      <td>39.832523</td>\n",
              "      <td>23.169222</td>\n",
              "      <td>8.0</td>\n",
              "      <td>7</td>\n",
              "      <td>8.0</td>\n",
              "      <td>1966</td>\n",
              "      <td>0.118537</td>\n",
              "      <td>...</td>\n",
              "      <td>1</td>\n",
              "      <td>0</td>\n",
              "      <td>1</td>\n",
              "      <td>177734.546875</td>\n",
              "      <td>0</td>\n",
              "      <td>0</td>\n",
              "      <td>0</td>\n",
              "      <td>78</td>\n",
              "      <td>0</td>\n",
              "      <td>146032.828125</td>\n",
              "    </tr>\n",
              "    <tr>\n",
              "      <th>2</th>\n",
              "      <td>8215</td>\n",
              "      <td>1</td>\n",
              "      <td>3.0</td>\n",
              "      <td>78.342216</td>\n",
              "      <td>47.671970</td>\n",
              "      <td>10.0</td>\n",
              "      <td>2</td>\n",
              "      <td>17.0</td>\n",
              "      <td>1988</td>\n",
              "      <td>0.025609</td>\n",
              "      <td>...</td>\n",
              "      <td>3</td>\n",
              "      <td>1</td>\n",
              "      <td>1</td>\n",
              "      <td>282078.718750</td>\n",
              "      <td>0</td>\n",
              "      <td>0</td>\n",
              "      <td>0</td>\n",
              "      <td>652</td>\n",
              "      <td>1</td>\n",
              "      <td>244005.281250</td>\n",
              "    </tr>\n",
              "    <tr>\n",
              "      <th>3</th>\n",
              "      <td>2352</td>\n",
              "      <td>1</td>\n",
              "      <td>1.0</td>\n",
              "      <td>40.409908</td>\n",
              "      <td>34.409908</td>\n",
              "      <td>3.0</td>\n",
              "      <td>10</td>\n",
              "      <td>22.0</td>\n",
              "      <td>1977</td>\n",
              "      <td>0.007122</td>\n",
              "      <td>...</td>\n",
              "      <td>0</td>\n",
              "      <td>1</td>\n",
              "      <td>1</td>\n",
              "      <td>168106.000000</td>\n",
              "      <td>0</td>\n",
              "      <td>0</td>\n",
              "      <td>1</td>\n",
              "      <td>652</td>\n",
              "      <td>1</td>\n",
              "      <td>146735.671875</td>\n",
              "    </tr>\n",
              "    <tr>\n",
              "      <th>4</th>\n",
              "      <td>13866</td>\n",
              "      <td>94</td>\n",
              "      <td>2.0</td>\n",
              "      <td>64.285065</td>\n",
              "      <td>38.562515</td>\n",
              "      <td>9.0</td>\n",
              "      <td>16</td>\n",
              "      <td>16.0</td>\n",
              "      <td>1972</td>\n",
              "      <td>0.282798</td>\n",
              "      <td>...</td>\n",
              "      <td>0</td>\n",
              "      <td>6</td>\n",
              "      <td>1</td>\n",
              "      <td>343995.093750</td>\n",
              "      <td>0</td>\n",
              "      <td>0</td>\n",
              "      <td>0</td>\n",
              "      <td>89</td>\n",
              "      <td>0</td>\n",
              "      <td>201584.437500</td>\n",
              "    </tr>\n",
              "  </tbody>\n",
              "</table>\n",
              "<p>5 rows × 25 columns</p>\n",
              "</div>"
            ]
          },
          "metadata": {
            "tags": []
          },
          "execution_count": 517
        }
      ]
    },
    {
      "cell_type": "markdown",
      "metadata": {
        "id": "HGPyxfIoURVd"
      },
      "source": [
        "MedPriceByFloorYear"
      ]
    },
    {
      "cell_type": "code",
      "metadata": {
        "execution": {
          "iopub.status.busy": "2021-07-19T20:25:50.778178Z",
          "iopub.execute_input": "2021-07-19T20:25:50.778576Z",
          "iopub.status.idle": "2021-07-19T20:25:50.792874Z",
          "shell.execute_reply.started": "2021-07-19T20:25:50.778519Z",
          "shell.execute_reply": "2021-07-19T20:25:50.791579Z"
        },
        "trusted": true,
        "id": "HNM7AlcYURVe"
      },
      "source": [
        "def floor_to_cat(X):\n",
        "\n",
        "    X['floor_cat'] = 0\n",
        "\n",
        "    X.loc[X['Floor'] <= 3, 'floor_cat'] = 1  \n",
        "    X.loc[(X['Floor'] > 3) & (X['Floor'] <= 5), 'floor_cat'] = 2\n",
        "    X.loc[(X['Floor'] > 5) & (X['Floor'] <= 9), 'floor_cat'] = 3\n",
        "    X.loc[(X['Floor'] > 9) & (X['Floor'] <= 15), 'floor_cat'] = 4\n",
        "    X.loc[X['Floor'] > 15, 'floor_cat'] = 5\n",
        "\n",
        "    return X\n",
        "\n",
        "\n",
        "def floor_to_cat_pandas(X):\n",
        "    bins = [0, 3, 5, 9, 15, X['Floor'].max()]\n",
        "    X['floor_cat'] = pd.cut(X['Floor'], bins=bins, labels=False)\n",
        "    \n",
        "    X['floor_cat'].fillna(-1, inplace=True)\n",
        "    return X\n",
        "\n",
        "\n",
        "def year_to_cat(X):\n",
        "\n",
        "    X['year_cat'] = 0\n",
        "\n",
        "    X.loc[X['HouseYear'] <= 1941, 'year_cat'] = 1\n",
        "    X.loc[(X['HouseYear'] > 1941) & (X['HouseYear'] <= 1945), 'year_cat'] = 2\n",
        "    X.loc[(X['HouseYear'] > 1945) & (X['HouseYear'] <= 1980), 'year_cat'] = 3\n",
        "    X.loc[(X['HouseYear'] > 1980) & (X['HouseYear'] <= 2000), 'year_cat'] = 4\n",
        "    X.loc[(X['HouseYear'] > 2000) & (X['HouseYear'] <= 2010), 'year_cat'] = 5\n",
        "    X.loc[(X['HouseYear'] > 2010), 'year_cat'] = 6\n",
        "\n",
        "    return X\n",
        "\n",
        "\n",
        "def year_to_cat_pandas(X):\n",
        "    bins = [0, 1941, 1945, 1980, 2000, 2010, X['HouseYear'].max()]\n",
        "    X['year_cat'] = pd.cut(X['HouseYear'], bins=bins, labels=False)\n",
        "    \n",
        "    X['year_cat'].fillna(-1, inplace=True)\n",
        "    return X"
      ],
      "execution_count": null,
      "outputs": []
    },
    {
      "cell_type": "code",
      "metadata": {
        "execution": {
          "iopub.status.busy": "2021-07-19T20:25:50.806126Z",
          "iopub.execute_input": "2021-07-19T20:25:50.806487Z",
          "iopub.status.idle": "2021-07-19T20:25:50.818419Z",
          "shell.execute_reply.started": "2021-07-19T20:25:50.806455Z",
          "shell.execute_reply": "2021-07-19T20:25:50.817539Z"
        },
        "trusted": true,
        "id": "gjWcNcXgURVe",
        "outputId": "9b8799fa-307c-49d6-d4fc-9ba1d11f3695"
      },
      "source": [
        "bins = [0, 3, 5, 9, 15, train_df['Floor'].max()]\n",
        "pd.cut(train_df['Floor'], bins=bins, labels=False)"
      ],
      "execution_count": null,
      "outputs": [
        {
          "output_type": "execute_result",
          "data": {
            "text/plain": [
              "0       1\n",
              "1       2\n",
              "2       0\n",
              "3       3\n",
              "4       4\n",
              "       ..\n",
              "9995    0\n",
              "9996    3\n",
              "9997    0\n",
              "9998    0\n",
              "9999    2\n",
              "Name: Floor, Length: 10000, dtype: int64"
            ]
          },
          "metadata": {
            "tags": []
          },
          "execution_count": 519
        }
      ]
    },
    {
      "cell_type": "code",
      "metadata": {
        "execution": {
          "iopub.status.busy": "2021-07-19T20:25:50.849628Z",
          "iopub.execute_input": "2021-07-19T20:25:50.849980Z",
          "iopub.status.idle": "2021-07-19T20:25:50.864130Z",
          "shell.execute_reply.started": "2021-07-19T20:25:50.849952Z",
          "shell.execute_reply": "2021-07-19T20:25:50.863321Z"
        },
        "trusted": true,
        "id": "DWbmjmg7URVf",
        "outputId": "0994c7e0-6a35-4a90-fbf4-95d316ec3e01"
      },
      "source": [
        "bins = [0, 3, 5, 9, 15, train_df['Floor'].max()]\n",
        "pd.cut(train_df['Floor'], bins=bins)"
      ],
      "execution_count": null,
      "outputs": [
        {
          "output_type": "execute_result",
          "data": {
            "text/plain": [
              "0         (3, 5]\n",
              "1         (5, 9]\n",
              "2         (0, 3]\n",
              "3        (9, 15]\n",
              "4       (15, 42]\n",
              "          ...   \n",
              "9995      (0, 3]\n",
              "9996     (9, 15]\n",
              "9997      (0, 3]\n",
              "9998      (0, 3]\n",
              "9999      (5, 9]\n",
              "Name: Floor, Length: 10000, dtype: category\n",
              "Categories (5, interval[int64]): [(0, 3] < (3, 5] < (5, 9] < (9, 15] < (15, 42]]"
            ]
          },
          "metadata": {
            "tags": []
          },
          "execution_count": 520
        }
      ]
    },
    {
      "cell_type": "code",
      "metadata": {
        "execution": {
          "iopub.status.busy": "2021-07-19T20:25:50.935089Z",
          "iopub.execute_input": "2021-07-19T20:25:50.935454Z",
          "iopub.status.idle": "2021-07-19T20:25:50.979828Z",
          "shell.execute_reply.started": "2021-07-19T20:25:50.935423Z",
          "shell.execute_reply": "2021-07-19T20:25:50.978880Z"
        },
        "trusted": true,
        "id": "yeoHpaAbURVf",
        "outputId": "86a015b4-b42f-4306-812d-fd26ce270949"
      },
      "source": [
        "train_df = year_to_cat(train_df)\n",
        "train_df = floor_to_cat(train_df)\n",
        "train_df.head()"
      ],
      "execution_count": null,
      "outputs": [
        {
          "output_type": "execute_result",
          "data": {
            "text/plain": [
              "      Id DistrictId  Rooms      Square  LifeSquare  KitchenSquare  Floor  \\\n",
              "0  11809         27    3.0  115.027313  102.027313           10.0      4   \n",
              "1   3013         22    1.0   39.832523   23.169222            8.0      7   \n",
              "2   8215          1    3.0   78.342216   47.671970           10.0      2   \n",
              "3   2352          1    1.0   40.409908   34.409908            3.0     10   \n",
              "4  13866         94    2.0   64.285065   38.562515            9.0     16   \n",
              "\n",
              "   HouseFloor  HouseYear  Ecology_1  ...  Shops_2          Price  \\\n",
              "0        10.0       2014   0.075424  ...        1  305018.875000   \n",
              "1         8.0       1966   0.118537  ...        1  177734.546875   \n",
              "2        17.0       1988   0.025609  ...        1  282078.718750   \n",
              "3        22.0       1977   0.007122  ...        1  168106.000000   \n",
              "4        16.0       1972   0.282798  ...        1  343995.093750   \n",
              "\n",
              "   Rooms_outlier  HouseFloor_outlier  LifeSquare_nan  DistrictSize  \\\n",
              "0              0                   0               1           851   \n",
              "1              0                   0               0            78   \n",
              "2              0                   0               0           652   \n",
              "3              0                   0               1           652   \n",
              "4              0                   0               0            89   \n",
              "\n",
              "   IsDistrictLarge  MedPriceByDistrict  year_cat  floor_cat  \n",
              "0                1       213530.781250         6          2  \n",
              "1                0       146032.828125         3          3  \n",
              "2                1       244005.281250         4          1  \n",
              "3                1       146735.671875         3          4  \n",
              "4                0       201584.437500         3          5  \n",
              "\n",
              "[5 rows x 27 columns]"
            ],
            "text/html": [
              "<div>\n",
              "<style scoped>\n",
              "    .dataframe tbody tr th:only-of-type {\n",
              "        vertical-align: middle;\n",
              "    }\n",
              "\n",
              "    .dataframe tbody tr th {\n",
              "        vertical-align: top;\n",
              "    }\n",
              "\n",
              "    .dataframe thead th {\n",
              "        text-align: right;\n",
              "    }\n",
              "</style>\n",
              "<table border=\"1\" class=\"dataframe\">\n",
              "  <thead>\n",
              "    <tr style=\"text-align: right;\">\n",
              "      <th></th>\n",
              "      <th>Id</th>\n",
              "      <th>DistrictId</th>\n",
              "      <th>Rooms</th>\n",
              "      <th>Square</th>\n",
              "      <th>LifeSquare</th>\n",
              "      <th>KitchenSquare</th>\n",
              "      <th>Floor</th>\n",
              "      <th>HouseFloor</th>\n",
              "      <th>HouseYear</th>\n",
              "      <th>Ecology_1</th>\n",
              "      <th>...</th>\n",
              "      <th>Shops_2</th>\n",
              "      <th>Price</th>\n",
              "      <th>Rooms_outlier</th>\n",
              "      <th>HouseFloor_outlier</th>\n",
              "      <th>LifeSquare_nan</th>\n",
              "      <th>DistrictSize</th>\n",
              "      <th>IsDistrictLarge</th>\n",
              "      <th>MedPriceByDistrict</th>\n",
              "      <th>year_cat</th>\n",
              "      <th>floor_cat</th>\n",
              "    </tr>\n",
              "  </thead>\n",
              "  <tbody>\n",
              "    <tr>\n",
              "      <th>0</th>\n",
              "      <td>11809</td>\n",
              "      <td>27</td>\n",
              "      <td>3.0</td>\n",
              "      <td>115.027313</td>\n",
              "      <td>102.027313</td>\n",
              "      <td>10.0</td>\n",
              "      <td>4</td>\n",
              "      <td>10.0</td>\n",
              "      <td>2014</td>\n",
              "      <td>0.075424</td>\n",
              "      <td>...</td>\n",
              "      <td>1</td>\n",
              "      <td>305018.875000</td>\n",
              "      <td>0</td>\n",
              "      <td>0</td>\n",
              "      <td>1</td>\n",
              "      <td>851</td>\n",
              "      <td>1</td>\n",
              "      <td>213530.781250</td>\n",
              "      <td>6</td>\n",
              "      <td>2</td>\n",
              "    </tr>\n",
              "    <tr>\n",
              "      <th>1</th>\n",
              "      <td>3013</td>\n",
              "      <td>22</td>\n",
              "      <td>1.0</td>\n",
              "      <td>39.832523</td>\n",
              "      <td>23.169222</td>\n",
              "      <td>8.0</td>\n",
              "      <td>7</td>\n",
              "      <td>8.0</td>\n",
              "      <td>1966</td>\n",
              "      <td>0.118537</td>\n",
              "      <td>...</td>\n",
              "      <td>1</td>\n",
              "      <td>177734.546875</td>\n",
              "      <td>0</td>\n",
              "      <td>0</td>\n",
              "      <td>0</td>\n",
              "      <td>78</td>\n",
              "      <td>0</td>\n",
              "      <td>146032.828125</td>\n",
              "      <td>3</td>\n",
              "      <td>3</td>\n",
              "    </tr>\n",
              "    <tr>\n",
              "      <th>2</th>\n",
              "      <td>8215</td>\n",
              "      <td>1</td>\n",
              "      <td>3.0</td>\n",
              "      <td>78.342216</td>\n",
              "      <td>47.671970</td>\n",
              "      <td>10.0</td>\n",
              "      <td>2</td>\n",
              "      <td>17.0</td>\n",
              "      <td>1988</td>\n",
              "      <td>0.025609</td>\n",
              "      <td>...</td>\n",
              "      <td>1</td>\n",
              "      <td>282078.718750</td>\n",
              "      <td>0</td>\n",
              "      <td>0</td>\n",
              "      <td>0</td>\n",
              "      <td>652</td>\n",
              "      <td>1</td>\n",
              "      <td>244005.281250</td>\n",
              "      <td>4</td>\n",
              "      <td>1</td>\n",
              "    </tr>\n",
              "    <tr>\n",
              "      <th>3</th>\n",
              "      <td>2352</td>\n",
              "      <td>1</td>\n",
              "      <td>1.0</td>\n",
              "      <td>40.409908</td>\n",
              "      <td>34.409908</td>\n",
              "      <td>3.0</td>\n",
              "      <td>10</td>\n",
              "      <td>22.0</td>\n",
              "      <td>1977</td>\n",
              "      <td>0.007122</td>\n",
              "      <td>...</td>\n",
              "      <td>1</td>\n",
              "      <td>168106.000000</td>\n",
              "      <td>0</td>\n",
              "      <td>0</td>\n",
              "      <td>1</td>\n",
              "      <td>652</td>\n",
              "      <td>1</td>\n",
              "      <td>146735.671875</td>\n",
              "      <td>3</td>\n",
              "      <td>4</td>\n",
              "    </tr>\n",
              "    <tr>\n",
              "      <th>4</th>\n",
              "      <td>13866</td>\n",
              "      <td>94</td>\n",
              "      <td>2.0</td>\n",
              "      <td>64.285065</td>\n",
              "      <td>38.562515</td>\n",
              "      <td>9.0</td>\n",
              "      <td>16</td>\n",
              "      <td>16.0</td>\n",
              "      <td>1972</td>\n",
              "      <td>0.282798</td>\n",
              "      <td>...</td>\n",
              "      <td>1</td>\n",
              "      <td>343995.093750</td>\n",
              "      <td>0</td>\n",
              "      <td>0</td>\n",
              "      <td>0</td>\n",
              "      <td>89</td>\n",
              "      <td>0</td>\n",
              "      <td>201584.437500</td>\n",
              "      <td>3</td>\n",
              "      <td>5</td>\n",
              "    </tr>\n",
              "  </tbody>\n",
              "</table>\n",
              "<p>5 rows × 27 columns</p>\n",
              "</div>"
            ]
          },
          "metadata": {
            "tags": []
          },
          "execution_count": 521
        }
      ]
    },
    {
      "cell_type": "code",
      "metadata": {
        "execution": {
          "iopub.status.busy": "2021-07-19T20:25:51.000652Z",
          "iopub.execute_input": "2021-07-19T20:25:51.000996Z",
          "iopub.status.idle": "2021-07-19T20:25:51.022877Z",
          "shell.execute_reply.started": "2021-07-19T20:25:51.000967Z",
          "shell.execute_reply": "2021-07-19T20:25:51.021942Z"
        },
        "trusted": true,
        "id": "-Xp7D2LCURVf",
        "outputId": "d6d053d8-2c94-4941-b3ef-1f3fa5c4b2eb"
      },
      "source": [
        "med_price_by_floor_year = train_df.groupby(['year_cat', 'floor_cat'], as_index=False).agg({'Price':'median'}).\\\n",
        "                                            rename(columns={'Price':'MedPriceByFloorYear'})\n",
        "med_price_by_floor_year.head()"
      ],
      "execution_count": null,
      "outputs": [
        {
          "output_type": "execute_result",
          "data": {
            "text/plain": [
              "   year_cat  floor_cat  MedPriceByFloorYear\n",
              "0         1          1         377289.56250\n",
              "1         1          2         329090.75000\n",
              "2         1          3         386006.56250\n",
              "3         1          4         274992.46875\n",
              "4         2          1         467230.53125"
            ],
            "text/html": [
              "<div>\n",
              "<style scoped>\n",
              "    .dataframe tbody tr th:only-of-type {\n",
              "        vertical-align: middle;\n",
              "    }\n",
              "\n",
              "    .dataframe tbody tr th {\n",
              "        vertical-align: top;\n",
              "    }\n",
              "\n",
              "    .dataframe thead th {\n",
              "        text-align: right;\n",
              "    }\n",
              "</style>\n",
              "<table border=\"1\" class=\"dataframe\">\n",
              "  <thead>\n",
              "    <tr style=\"text-align: right;\">\n",
              "      <th></th>\n",
              "      <th>year_cat</th>\n",
              "      <th>floor_cat</th>\n",
              "      <th>MedPriceByFloorYear</th>\n",
              "    </tr>\n",
              "  </thead>\n",
              "  <tbody>\n",
              "    <tr>\n",
              "      <th>0</th>\n",
              "      <td>1</td>\n",
              "      <td>1</td>\n",
              "      <td>377289.56250</td>\n",
              "    </tr>\n",
              "    <tr>\n",
              "      <th>1</th>\n",
              "      <td>1</td>\n",
              "      <td>2</td>\n",
              "      <td>329090.75000</td>\n",
              "    </tr>\n",
              "    <tr>\n",
              "      <th>2</th>\n",
              "      <td>1</td>\n",
              "      <td>3</td>\n",
              "      <td>386006.56250</td>\n",
              "    </tr>\n",
              "    <tr>\n",
              "      <th>3</th>\n",
              "      <td>1</td>\n",
              "      <td>4</td>\n",
              "      <td>274992.46875</td>\n",
              "    </tr>\n",
              "    <tr>\n",
              "      <th>4</th>\n",
              "      <td>2</td>\n",
              "      <td>1</td>\n",
              "      <td>467230.53125</td>\n",
              "    </tr>\n",
              "  </tbody>\n",
              "</table>\n",
              "</div>"
            ]
          },
          "metadata": {
            "tags": []
          },
          "execution_count": 522
        }
      ]
    },
    {
      "cell_type": "code",
      "metadata": {
        "execution": {
          "iopub.status.busy": "2021-07-19T20:25:51.056930Z",
          "iopub.execute_input": "2021-07-19T20:25:51.057315Z",
          "iopub.status.idle": "2021-07-19T20:25:51.103439Z",
          "shell.execute_reply.started": "2021-07-19T20:25:51.057284Z",
          "shell.execute_reply": "2021-07-19T20:25:51.102374Z"
        },
        "trusted": true,
        "id": "WDD_VX2mURVg",
        "outputId": "c70e880a-af2e-4998-da23-1d21fdd1eca4"
      },
      "source": [
        "train_df = train_df.merge(med_price_by_floor_year, on=['year_cat', 'floor_cat'], how='left')\n",
        "train_df.head()"
      ],
      "execution_count": null,
      "outputs": [
        {
          "output_type": "execute_result",
          "data": {
            "text/plain": [
              "      Id DistrictId  Rooms      Square  LifeSquare  KitchenSquare  Floor  \\\n",
              "0  11809         27    3.0  115.027313  102.027313           10.0      4   \n",
              "1   3013         22    1.0   39.832523   23.169222            8.0      7   \n",
              "2   8215          1    3.0   78.342216   47.671970           10.0      2   \n",
              "3   2352          1    1.0   40.409908   34.409908            3.0     10   \n",
              "4  13866         94    2.0   64.285065   38.562515            9.0     16   \n",
              "\n",
              "   HouseFloor  HouseYear  Ecology_1  ...          Price  Rooms_outlier  \\\n",
              "0        10.0       2014   0.075424  ...  305018.875000              0   \n",
              "1         8.0       1966   0.118537  ...  177734.546875              0   \n",
              "2        17.0       1988   0.025609  ...  282078.718750              0   \n",
              "3        22.0       1977   0.007122  ...  168106.000000              0   \n",
              "4        16.0       1972   0.282798  ...  343995.093750              0   \n",
              "\n",
              "   HouseFloor_outlier  LifeSquare_nan  DistrictSize  IsDistrictLarge  \\\n",
              "0                   0               1           851                1   \n",
              "1                   0               0            78                0   \n",
              "2                   0               0           652                1   \n",
              "3                   0               1           652                1   \n",
              "4                   0               0            89                0   \n",
              "\n",
              "   MedPriceByDistrict  year_cat  floor_cat  MedPriceByFloorYear  \n",
              "0       213530.781250         6          2        163969.984375  \n",
              "1       146032.828125         3          3        191800.734375  \n",
              "2       244005.281250         4          1        209026.031250  \n",
              "3       146735.671875         3          4        183622.421875  \n",
              "4       201584.437500         3          5        173934.859375  \n",
              "\n",
              "[5 rows x 28 columns]"
            ],
            "text/html": [
              "<div>\n",
              "<style scoped>\n",
              "    .dataframe tbody tr th:only-of-type {\n",
              "        vertical-align: middle;\n",
              "    }\n",
              "\n",
              "    .dataframe tbody tr th {\n",
              "        vertical-align: top;\n",
              "    }\n",
              "\n",
              "    .dataframe thead th {\n",
              "        text-align: right;\n",
              "    }\n",
              "</style>\n",
              "<table border=\"1\" class=\"dataframe\">\n",
              "  <thead>\n",
              "    <tr style=\"text-align: right;\">\n",
              "      <th></th>\n",
              "      <th>Id</th>\n",
              "      <th>DistrictId</th>\n",
              "      <th>Rooms</th>\n",
              "      <th>Square</th>\n",
              "      <th>LifeSquare</th>\n",
              "      <th>KitchenSquare</th>\n",
              "      <th>Floor</th>\n",
              "      <th>HouseFloor</th>\n",
              "      <th>HouseYear</th>\n",
              "      <th>Ecology_1</th>\n",
              "      <th>...</th>\n",
              "      <th>Price</th>\n",
              "      <th>Rooms_outlier</th>\n",
              "      <th>HouseFloor_outlier</th>\n",
              "      <th>LifeSquare_nan</th>\n",
              "      <th>DistrictSize</th>\n",
              "      <th>IsDistrictLarge</th>\n",
              "      <th>MedPriceByDistrict</th>\n",
              "      <th>year_cat</th>\n",
              "      <th>floor_cat</th>\n",
              "      <th>MedPriceByFloorYear</th>\n",
              "    </tr>\n",
              "  </thead>\n",
              "  <tbody>\n",
              "    <tr>\n",
              "      <th>0</th>\n",
              "      <td>11809</td>\n",
              "      <td>27</td>\n",
              "      <td>3.0</td>\n",
              "      <td>115.027313</td>\n",
              "      <td>102.027313</td>\n",
              "      <td>10.0</td>\n",
              "      <td>4</td>\n",
              "      <td>10.0</td>\n",
              "      <td>2014</td>\n",
              "      <td>0.075424</td>\n",
              "      <td>...</td>\n",
              "      <td>305018.875000</td>\n",
              "      <td>0</td>\n",
              "      <td>0</td>\n",
              "      <td>1</td>\n",
              "      <td>851</td>\n",
              "      <td>1</td>\n",
              "      <td>213530.781250</td>\n",
              "      <td>6</td>\n",
              "      <td>2</td>\n",
              "      <td>163969.984375</td>\n",
              "    </tr>\n",
              "    <tr>\n",
              "      <th>1</th>\n",
              "      <td>3013</td>\n",
              "      <td>22</td>\n",
              "      <td>1.0</td>\n",
              "      <td>39.832523</td>\n",
              "      <td>23.169222</td>\n",
              "      <td>8.0</td>\n",
              "      <td>7</td>\n",
              "      <td>8.0</td>\n",
              "      <td>1966</td>\n",
              "      <td>0.118537</td>\n",
              "      <td>...</td>\n",
              "      <td>177734.546875</td>\n",
              "      <td>0</td>\n",
              "      <td>0</td>\n",
              "      <td>0</td>\n",
              "      <td>78</td>\n",
              "      <td>0</td>\n",
              "      <td>146032.828125</td>\n",
              "      <td>3</td>\n",
              "      <td>3</td>\n",
              "      <td>191800.734375</td>\n",
              "    </tr>\n",
              "    <tr>\n",
              "      <th>2</th>\n",
              "      <td>8215</td>\n",
              "      <td>1</td>\n",
              "      <td>3.0</td>\n",
              "      <td>78.342216</td>\n",
              "      <td>47.671970</td>\n",
              "      <td>10.0</td>\n",
              "      <td>2</td>\n",
              "      <td>17.0</td>\n",
              "      <td>1988</td>\n",
              "      <td>0.025609</td>\n",
              "      <td>...</td>\n",
              "      <td>282078.718750</td>\n",
              "      <td>0</td>\n",
              "      <td>0</td>\n",
              "      <td>0</td>\n",
              "      <td>652</td>\n",
              "      <td>1</td>\n",
              "      <td>244005.281250</td>\n",
              "      <td>4</td>\n",
              "      <td>1</td>\n",
              "      <td>209026.031250</td>\n",
              "    </tr>\n",
              "    <tr>\n",
              "      <th>3</th>\n",
              "      <td>2352</td>\n",
              "      <td>1</td>\n",
              "      <td>1.0</td>\n",
              "      <td>40.409908</td>\n",
              "      <td>34.409908</td>\n",
              "      <td>3.0</td>\n",
              "      <td>10</td>\n",
              "      <td>22.0</td>\n",
              "      <td>1977</td>\n",
              "      <td>0.007122</td>\n",
              "      <td>...</td>\n",
              "      <td>168106.000000</td>\n",
              "      <td>0</td>\n",
              "      <td>0</td>\n",
              "      <td>1</td>\n",
              "      <td>652</td>\n",
              "      <td>1</td>\n",
              "      <td>146735.671875</td>\n",
              "      <td>3</td>\n",
              "      <td>4</td>\n",
              "      <td>183622.421875</td>\n",
              "    </tr>\n",
              "    <tr>\n",
              "      <th>4</th>\n",
              "      <td>13866</td>\n",
              "      <td>94</td>\n",
              "      <td>2.0</td>\n",
              "      <td>64.285065</td>\n",
              "      <td>38.562515</td>\n",
              "      <td>9.0</td>\n",
              "      <td>16</td>\n",
              "      <td>16.0</td>\n",
              "      <td>1972</td>\n",
              "      <td>0.282798</td>\n",
              "      <td>...</td>\n",
              "      <td>343995.093750</td>\n",
              "      <td>0</td>\n",
              "      <td>0</td>\n",
              "      <td>0</td>\n",
              "      <td>89</td>\n",
              "      <td>0</td>\n",
              "      <td>201584.437500</td>\n",
              "      <td>3</td>\n",
              "      <td>5</td>\n",
              "      <td>173934.859375</td>\n",
              "    </tr>\n",
              "  </tbody>\n",
              "</table>\n",
              "<p>5 rows × 28 columns</p>\n",
              "</div>"
            ]
          },
          "metadata": {
            "tags": []
          },
          "execution_count": 523
        }
      ]
    },
    {
      "cell_type": "markdown",
      "metadata": {
        "id": "o6bvbKOIURVh"
      },
      "source": [
        "Пакет Генератора признаков"
      ]
    },
    {
      "cell_type": "code",
      "metadata": {
        "execution": {
          "iopub.status.busy": "2021-07-19T20:25:51.104875Z",
          "iopub.execute_input": "2021-07-19T20:25:51.105168Z",
          "iopub.status.idle": "2021-07-19T20:25:51.126784Z",
          "shell.execute_reply.started": "2021-07-19T20:25:51.105141Z",
          "shell.execute_reply": "2021-07-19T20:25:51.125759Z"
        },
        "trusted": true,
        "id": "s7P1IBO5URVh"
      },
      "source": [
        "class FeatureGenetator():\n",
        "    \"\"\"Генерация новых фич\"\"\"\n",
        "    \n",
        "    def __init__(self):\n",
        "        self.DistrictId_counts = None\n",
        "        self.binary_to_numbers = None\n",
        "        self.med_price_by_district = None\n",
        "        self.med_price_by_floor_year = None\n",
        "        self.house_year_max = None\n",
        "        self.floor_max = None\n",
        "        self.district_size = None\n",
        "        \n",
        "    def fit(self, X, y=None):\n",
        "        \n",
        "        X = X.copy()\n",
        "        \n",
        "        # Binary features\n",
        "        self.binary_to_numbers = {'A': 0, 'B': 1}\n",
        "        \n",
        "        # DistrictID\n",
        "        self.district_size = X['DistrictId'].value_counts().reset_index() \\\n",
        "                               .rename(columns={'index':'DistrictId', 'DistrictId':'DistrictSize'})\n",
        "                \n",
        "        # Target encoding\n",
        "        ## District, Rooms\n",
        "        df = X.copy()\n",
        "        \n",
        "        if y is not None:\n",
        "            df['Price'] = y.values\n",
        "            \n",
        "            self.med_price_by_district = df.groupby(['DistrictId', 'Rooms'], as_index=False).agg({'Price':'median'})\\\n",
        "                                            .rename(columns={'Price':'MedPriceByDistrict'})\n",
        "            \n",
        "            self.med_price_by_district_median = self.med_price_by_district['MedPriceByDistrict'].median()\n",
        "            \n",
        "        ## floor, year\n",
        "        if y is not None:\n",
        "            self.floor_max = df['Floor'].max()\n",
        "            self.house_year_max = df['HouseYear'].max()\n",
        "            df['Price'] = y.values\n",
        "            df = self.floor_to_cat(df)\n",
        "            df = self.year_to_cat(df)\n",
        "            self.med_price_by_floor_year = df.groupby(['year_cat', 'floor_cat'], as_index=False).agg({'Price':'median'}).\\\n",
        "                                            rename(columns={'Price':'MedPriceByFloorYear'})\n",
        "            self.med_price_by_floor_year_median = self.med_price_by_floor_year['MedPriceByFloorYear'].median()\n",
        "        \n",
        "\n",
        "        \n",
        "    def transform(self, X):\n",
        "        \n",
        "        # Binary features\n",
        "        X['Ecology_2'] = X['Ecology_2'].map(self.binary_to_numbers)  # self.binary_to_numbers = {'A': 0, 'B': 1}\n",
        "        X['Ecology_3'] = X['Ecology_3'].map(self.binary_to_numbers)\n",
        "        X['Shops_2'] = X['Shops_2'].map(self.binary_to_numbers)\n",
        "        \n",
        "        # DistrictId, IsDistrictLarge\n",
        "        X = X.merge(self.district_size, on='DistrictId', how='left')\n",
        "        \n",
        "        X['new_district'] = 0\n",
        "        X.loc[X['DistrictSize'].isna(), 'new_district'] = 1\n",
        "        \n",
        "        X['DistrictSize'].fillna(5, inplace=True)\n",
        "        \n",
        "        X['IsDistrictLarge'] = (X['DistrictSize'] > 100).astype(int)\n",
        "        \n",
        "        # More categorical features\n",
        "        X = self.floor_to_cat(X)  # + столбец floor_cat\n",
        "        X = self.year_to_cat(X)   # + столбец year_cat\n",
        "        \n",
        "        # Target encoding\n",
        "        if self.med_price_by_district is not None:\n",
        "            X = X.merge(self.med_price_by_district, on=['DistrictId', 'Rooms'], how='left')\n",
        "            X['MedPriceByDistrict'].fillna(self.med_price_by_district_median, inplace=True)\n",
        "            \n",
        "        if self.med_price_by_floor_year is not None:\n",
        "            X = X.merge(self.med_price_by_floor_year, on=['year_cat', 'floor_cat'], how='left')\n",
        "            X['MedPriceByFloorYear'].fillna(self.med_price_by_floor_year_median, inplace=True)\n",
        "        \n",
        "        return X\n",
        "    \n",
        "    def floor_to_cat(self, X):\n",
        "        bins = [0, 3, 5, 9, 15, self.floor_max]\n",
        "        X['floor_cat'] = pd.cut(X['Floor'], bins=bins, labels=False)\n",
        "\n",
        "        X['floor_cat'].fillna(-1, inplace=True)\n",
        "        return X\n",
        "     \n",
        "    def year_to_cat(self, X):\n",
        "        bins = [0, 1941, 1945, 1980, 2000, 2010, self.house_year_max]\n",
        "        X['year_cat'] = pd.cut(X['HouseYear'], bins=bins, labels=False)\n",
        "\n",
        "        X['year_cat'].fillna(-1, inplace=True)\n",
        "        return X"
      ],
      "execution_count": null,
      "outputs": []
    },
    {
      "cell_type": "markdown",
      "metadata": {
        "id": "yeb5-AB0URVj"
      },
      "source": [
        "Отбор признаков"
      ]
    },
    {
      "cell_type": "code",
      "metadata": {
        "execution": {
          "iopub.status.busy": "2021-07-19T20:25:51.135936Z",
          "iopub.execute_input": "2021-07-19T20:25:51.136440Z",
          "iopub.status.idle": "2021-07-19T20:25:51.143628Z",
          "shell.execute_reply.started": "2021-07-19T20:25:51.136385Z",
          "shell.execute_reply": "2021-07-19T20:25:51.142340Z"
        },
        "trusted": true,
        "id": "thiYYrdGURVj",
        "outputId": "cb1313a5-af8a-4982-de99-ebfe109258a1"
      },
      "source": [
        "train_df.columns.tolist()"
      ],
      "execution_count": null,
      "outputs": [
        {
          "output_type": "execute_result",
          "data": {
            "text/plain": [
              "['Id',\n",
              " 'DistrictId',\n",
              " 'Rooms',\n",
              " 'Square',\n",
              " 'LifeSquare',\n",
              " 'KitchenSquare',\n",
              " 'Floor',\n",
              " 'HouseFloor',\n",
              " 'HouseYear',\n",
              " 'Ecology_1',\n",
              " 'Ecology_2',\n",
              " 'Ecology_3',\n",
              " 'Social_1',\n",
              " 'Social_2',\n",
              " 'Social_3',\n",
              " 'Helthcare_2',\n",
              " 'Shops_1',\n",
              " 'Shops_2',\n",
              " 'Price',\n",
              " 'Rooms_outlier',\n",
              " 'HouseFloor_outlier',\n",
              " 'LifeSquare_nan',\n",
              " 'DistrictSize',\n",
              " 'IsDistrictLarge',\n",
              " 'MedPriceByDistrict',\n",
              " 'year_cat',\n",
              " 'floor_cat',\n",
              " 'MedPriceByFloorYear']"
            ]
          },
          "metadata": {
            "tags": []
          },
          "execution_count": 525
        }
      ]
    },
    {
      "cell_type": "code",
      "metadata": {
        "execution": {
          "iopub.status.busy": "2021-07-19T20:25:51.168981Z",
          "iopub.execute_input": "2021-07-19T20:25:51.169506Z",
          "iopub.status.idle": "2021-07-19T20:25:51.173876Z",
          "shell.execute_reply.started": "2021-07-19T20:25:51.169470Z",
          "shell.execute_reply": "2021-07-19T20:25:51.173111Z"
        },
        "trusted": true,
        "id": "wv7RQbhqURVk"
      },
      "source": [
        "feature_names = ['Rooms', 'Square', 'LifeSquare', 'KitchenSquare', 'Floor', 'HouseFloor', 'HouseYear',\n",
        "                 'Ecology_1', 'Social_1', 'Social_2', 'Social_3',\n",
        "                 'Helthcare_2', 'Shops_1', 'Shops_2']\n",
        "# feature_names = ['Rooms', 'Square', 'LifeSquare', 'KitchenSquare', 'Floor', 'HouseFloor', 'HouseYear',\n",
        "#                  'Ecology_1', 'Ecology_2', 'Ecology_3', 'Social_1', 'Social_2', 'Social_3',\n",
        "#                  'Helthcare_2', 'Shops_1', 'Shops_2']\n",
        "new_feature_names = ['HouseFloor_outlier', 'LifeSquare_nan', 'DistrictSize',\n",
        "                     'IsDistrictLarge',  'MedPriceByFloorYear']\n",
        "# Скорректирован список параметров, были удалены параметры с минимальным весом'Rooms_outlier','HouseYear_outlier','new_district' и максимальным весом 'MedPriceByDistrict'\n",
        "# веса признаков смотрятся сбалансированно\n",
        "# new_feature_names = ['Rooms_outlier', 'HouseFloor_outlier', 'HouseYear_outlier', 'LifeSquare_nan', 'DistrictSize',\n",
        "#                      'new_district', 'IsDistrictLarge',  'MedPriceByDistrict', 'MedPriceByFloorYear']\n",
        "target_name = 'Price'"
      ],
      "execution_count": null,
      "outputs": []
    },
    {
      "cell_type": "markdown",
      "metadata": {
        "id": "2t4IHm4UURVk"
      },
      "source": [
        "Разбиение на train и test"
      ]
    },
    {
      "cell_type": "code",
      "metadata": {
        "execution": {
          "iopub.status.busy": "2021-07-19T20:25:51.205670Z",
          "iopub.execute_input": "2021-07-19T20:25:51.206156Z",
          "iopub.status.idle": "2021-07-19T20:25:51.259897Z",
          "shell.execute_reply.started": "2021-07-19T20:25:51.206124Z",
          "shell.execute_reply": "2021-07-19T20:25:51.259102Z"
        },
        "trusted": true,
        "id": "Bs8WgHazURVl"
      },
      "source": [
        "train_df = pd.read_csv(TRAIN_DATASET_PATH)\n",
        "test_df = pd.read_csv(TEST_DATASET_PATH)\n",
        "\n",
        "X = train_df.drop(columns=target_name)\n",
        "y = train_df[target_name]"
      ],
      "execution_count": null,
      "outputs": []
    },
    {
      "cell_type": "code",
      "metadata": {
        "execution": {
          "iopub.status.busy": "2021-07-19T20:25:51.261098Z",
          "iopub.execute_input": "2021-07-19T20:25:51.261504Z",
          "iopub.status.idle": "2021-07-19T20:25:51.269136Z",
          "shell.execute_reply.started": "2021-07-19T20:25:51.261471Z",
          "shell.execute_reply": "2021-07-19T20:25:51.268354Z"
        },
        "trusted": true,
        "id": "qtfNtGB1URVl"
      },
      "source": [
        "X_train, X_valid, y_train, y_valid = train_test_split(X, y, test_size=0.3, shuffle=True, random_state=21)"
      ],
      "execution_count": null,
      "outputs": []
    },
    {
      "cell_type": "code",
      "metadata": {
        "execution": {
          "iopub.status.busy": "2021-07-19T20:25:51.273517Z",
          "iopub.execute_input": "2021-07-19T20:25:51.273965Z",
          "iopub.status.idle": "2021-07-19T20:25:51.354812Z",
          "shell.execute_reply.started": "2021-07-19T20:25:51.273933Z",
          "shell.execute_reply": "2021-07-19T20:25:51.353861Z"
        },
        "trusted": true,
        "id": "A-oYVlP6URVl",
        "outputId": "adedcf34-d55c-44a8-b6d1-5edc60a7b567"
      },
      "source": [
        "preprocessor = DataPreprocessing()\n",
        "preprocessor.fit(X_train)\n",
        "\n",
        "X_train = preprocessor.transform(X_train)\n",
        "X_valid = preprocessor.transform(X_valid)\n",
        "test_df = preprocessor.transform(test_df)\n",
        "\n",
        "X_train.shape, X_valid.shape, test_df.shape"
      ],
      "execution_count": null,
      "outputs": [
        {
          "output_type": "execute_result",
          "data": {
            "text/plain": [
              "((7000, 22), (3000, 22), (5000, 22))"
            ]
          },
          "metadata": {
            "tags": []
          },
          "execution_count": 529
        }
      ]
    },
    {
      "cell_type": "code",
      "metadata": {
        "execution": {
          "iopub.status.busy": "2021-07-19T20:25:51.356512Z",
          "iopub.execute_input": "2021-07-19T20:25:51.356927Z",
          "iopub.status.idle": "2021-07-19T20:25:51.478130Z",
          "shell.execute_reply.started": "2021-07-19T20:25:51.356884Z",
          "shell.execute_reply": "2021-07-19T20:25:51.477178Z"
        },
        "trusted": true,
        "id": "itk3Re0QURVm",
        "outputId": "81b812f4-6310-4d13-b88c-4fc05ff1deeb"
      },
      "source": [
        "features_gen = FeatureGenetator()\n",
        "features_gen.fit(X_train, y_train)\n",
        "\n",
        "X_train = features_gen.transform(X_train)\n",
        "X_valid = features_gen.transform(X_valid)\n",
        "test_df = features_gen.transform(test_df)\n",
        "\n",
        "X_train.shape, X_valid.shape, test_df.shape"
      ],
      "execution_count": null,
      "outputs": [
        {
          "output_type": "execute_result",
          "data": {
            "text/plain": [
              "((7000, 29), (3000, 29), (5000, 29))"
            ]
          },
          "metadata": {
            "tags": []
          },
          "execution_count": 530
        }
      ]
    },
    {
      "cell_type": "code",
      "metadata": {
        "execution": {
          "iopub.status.busy": "2021-07-19T20:25:51.479636Z",
          "iopub.execute_input": "2021-07-19T20:25:51.479979Z",
          "iopub.status.idle": "2021-07-19T20:25:51.492645Z",
          "shell.execute_reply.started": "2021-07-19T20:25:51.479948Z",
          "shell.execute_reply": "2021-07-19T20:25:51.491363Z"
        },
        "trusted": true,
        "id": "3BCnuCdsURVn"
      },
      "source": [
        "X_train = X_train[feature_names + new_feature_names]\n",
        "X_valid = X_valid[feature_names + new_feature_names]\n",
        "test_df = test_df[feature_names + new_feature_names]"
      ],
      "execution_count": null,
      "outputs": []
    },
    {
      "cell_type": "code",
      "metadata": {
        "execution": {
          "iopub.status.busy": "2021-07-19T20:25:51.494323Z",
          "iopub.execute_input": "2021-07-19T20:25:51.494741Z",
          "iopub.status.idle": "2021-07-19T20:25:51.508884Z",
          "shell.execute_reply.started": "2021-07-19T20:25:51.494708Z",
          "shell.execute_reply": "2021-07-19T20:25:51.507486Z"
        },
        "trusted": true,
        "id": "4BC0HwU-URVn",
        "outputId": "c389f67b-0e9f-48dc-deea-01bb0458da4b"
      },
      "source": [
        "X_train.isna().sum().sum(), X_valid.isna().sum().sum(), test_df.isna().sum().sum()"
      ],
      "execution_count": null,
      "outputs": [
        {
          "output_type": "execute_result",
          "data": {
            "text/plain": [
              "(0, 0, 0)"
            ]
          },
          "metadata": {
            "tags": []
          },
          "execution_count": 532
        }
      ]
    },
    {
      "cell_type": "markdown",
      "metadata": {
        "id": "8QCwCEVyURVn"
      },
      "source": [
        "Построение модели"
      ]
    },
    {
      "cell_type": "markdown",
      "metadata": {
        "id": "Ig0wv9e5URVo"
      },
      "source": [
        "обучение"
      ]
    },
    {
      "cell_type": "code",
      "metadata": {
        "execution": {
          "iopub.status.busy": "2021-07-19T20:25:51.510756Z",
          "iopub.execute_input": "2021-07-19T20:25:51.511225Z",
          "iopub.status.idle": "2021-07-19T20:25:57.026487Z",
          "shell.execute_reply.started": "2021-07-19T20:25:51.511177Z",
          "shell.execute_reply": "2021-07-19T20:25:57.025711Z"
        },
        "trusted": true,
        "id": "8GUysp55URVo",
        "outputId": "a7d22634-a479-407b-e72b-19b901ca0c83"
      },
      "source": [
        "rf_model = RandomForestRegressor(random_state=21, criterion='mse')\n",
        "rf_model.fit(X_train, y_train)"
      ],
      "execution_count": null,
      "outputs": [
        {
          "output_type": "execute_result",
          "data": {
            "text/plain": [
              "RandomForestRegressor(random_state=21)"
            ]
          },
          "metadata": {
            "tags": []
          },
          "execution_count": 533
        }
      ]
    },
    {
      "cell_type": "markdown",
      "metadata": {
        "id": "F-VTD2riURVo"
      },
      "source": [
        "оценка модели"
      ]
    },
    {
      "cell_type": "code",
      "metadata": {
        "execution": {
          "iopub.status.busy": "2021-07-19T20:25:57.027970Z",
          "iopub.execute_input": "2021-07-19T20:25:57.028354Z",
          "iopub.status.idle": "2021-07-19T20:25:57.683066Z",
          "shell.execute_reply.started": "2021-07-19T20:25:57.028325Z",
          "shell.execute_reply": "2021-07-19T20:25:57.682355Z"
        },
        "trusted": true,
        "id": "_Meo60wtURVo",
        "outputId": "7948e5b4-7fcb-43ca-991c-73bfd9407f27"
      },
      "source": [
        "y_train_preds = rf_model.predict(X_train)\n",
        "y_test_preds = rf_model.predict(X_valid)\n",
        "\n",
        "evaluate_preds(y_train, y_train_preds, y_valid, y_test_preds)"
      ],
      "execution_count": null,
      "outputs": [
        {
          "output_type": "stream",
          "text": [
            "Train R2:\t0.963\n",
            "Test R2:\t0.754\n"
          ],
          "name": "stdout"
        },
        {
          "output_type": "display_data",
          "data": {
            "text/plain": [
              "<Figure size 1296x720 with 2 Axes>"
            ],
            "image/png": "[encoded data removed]"
          },
          "metadata": {
            "tags": [],
            "needs_background": "light"
          }
        }
      ]
    },
    {
      "cell_type": "markdown",
      "metadata": {
        "id": "2jUTOQR_URVp"
      },
      "source": [
        "кросс валидация"
      ]
    },
    {
      "cell_type": "code",
      "metadata": {
        "execution": {
          "iopub.status.busy": "2021-07-19T20:25:57.684321Z",
          "iopub.execute_input": "2021-07-19T20:25:57.684746Z",
          "iopub.status.idle": "2021-07-19T20:26:08.705869Z",
          "shell.execute_reply.started": "2021-07-19T20:25:57.684717Z",
          "shell.execute_reply": "2021-07-19T20:26:08.704821Z"
        },
        "trusted": true,
        "id": "8p5-VkdiURVp",
        "outputId": "8434ebff-eaae-48ec-84f2-62586089c896"
      },
      "source": [
        "cv_score = cross_val_score(rf_model, X_train, y_train, scoring='r2', cv=KFold(n_splits=3, shuffle=True, random_state=21))\n",
        "cv_score"
      ],
      "execution_count": null,
      "outputs": [
        {
          "output_type": "execute_result",
          "data": {
            "text/plain": [
              "array([0.66075678, 0.7153186 , 0.75393794])"
            ]
          },
          "metadata": {
            "tags": []
          },
          "execution_count": 535
        }
      ]
    },
    {
      "cell_type": "code",
      "metadata": {
        "execution": {
          "iopub.status.busy": "2021-07-19T20:26:08.707283Z",
          "iopub.execute_input": "2021-07-19T20:26:08.707675Z",
          "iopub.status.idle": "2021-07-19T20:26:08.714371Z",
          "shell.execute_reply.started": "2021-07-19T20:26:08.707641Z",
          "shell.execute_reply": "2021-07-19T20:26:08.713380Z"
        },
        "trusted": true,
        "id": "5pZauEyMURVp",
        "outputId": "f8f8323c-417a-422e-f0f3-a830b74ab06a"
      },
      "source": [
        "cv_score.mean()"
      ],
      "execution_count": null,
      "outputs": [
        {
          "output_type": "execute_result",
          "data": {
            "text/plain": [
              "0.7100044372723143"
            ]
          },
          "metadata": {
            "tags": []
          },
          "execution_count": 536
        }
      ]
    },
    {
      "cell_type": "markdown",
      "metadata": {
        "id": "3HB-baf-URVq"
      },
      "source": [
        "важность признаков"
      ]
    },
    {
      "cell_type": "code",
      "metadata": {
        "execution": {
          "iopub.status.busy": "2021-07-19T20:26:08.715727Z",
          "iopub.execute_input": "2021-07-19T20:26:08.716067Z",
          "iopub.status.idle": "2021-07-19T20:26:08.761509Z",
          "shell.execute_reply.started": "2021-07-19T20:26:08.716023Z",
          "shell.execute_reply": "2021-07-19T20:26:08.760480Z"
        },
        "trusted": true,
        "id": "Zp4ypTmvURVq",
        "outputId": "a7ac6a33-e4a4-470e-f429-ce60bd85b9a2"
      },
      "source": [
        "feature_importances = pd.DataFrame(zip(X_train.columns, rf_model.feature_importances_), \n",
        "                                   columns=['feature_name', 'importance'])\n",
        "\n",
        "feature_importances.sort_values(by='importance', ascending=False)"
      ],
      "execution_count": null,
      "outputs": [
        {
          "output_type": "execute_result",
          "data": {
            "text/plain": [
              "           feature_name  importance\n",
              "1                Square    0.435146\n",
              "16         DistrictSize    0.220986\n",
              "10             Social_3    0.054384\n",
              "2            LifeSquare    0.036609\n",
              "7             Ecology_1    0.034293\n",
              "6             HouseYear    0.031774\n",
              "9              Social_2    0.029759\n",
              "18  MedPriceByFloorYear    0.024487\n",
              "8              Social_1    0.023491\n",
              "5            HouseFloor    0.022285\n",
              "0                 Rooms    0.021045\n",
              "4                 Floor    0.020446\n",
              "3         KitchenSquare    0.016321\n",
              "12              Shops_1    0.014469\n",
              "11          Helthcare_2    0.007648\n",
              "14   HouseFloor_outlier    0.002853\n",
              "13              Shops_2    0.001490\n",
              "17      IsDistrictLarge    0.001352\n",
              "15       LifeSquare_nan    0.001163"
            ],
            "text/html": [
              "<div>\n",
              "<style scoped>\n",
              "    .dataframe tbody tr th:only-of-type {\n",
              "        vertical-align: middle;\n",
              "    }\n",
              "\n",
              "    .dataframe tbody tr th {\n",
              "        vertical-align: top;\n",
              "    }\n",
              "\n",
              "    .dataframe thead th {\n",
              "        text-align: right;\n",
              "    }\n",
              "</style>\n",
              "<table border=\"1\" class=\"dataframe\">\n",
              "  <thead>\n",
              "    <tr style=\"text-align: right;\">\n",
              "      <th></th>\n",
              "      <th>feature_name</th>\n",
              "      <th>importance</th>\n",
              "    </tr>\n",
              "  </thead>\n",
              "  <tbody>\n",
              "    <tr>\n",
              "      <th>1</th>\n",
              "      <td>Square</td>\n",
              "      <td>0.435146</td>\n",
              "    </tr>\n",
              "    <tr>\n",
              "      <th>16</th>\n",
              "      <td>DistrictSize</td>\n",
              "      <td>0.220986</td>\n",
              "    </tr>\n",
              "    <tr>\n",
              "      <th>10</th>\n",
              "      <td>Social_3</td>\n",
              "      <td>0.054384</td>\n",
              "    </tr>\n",
              "    <tr>\n",
              "      <th>2</th>\n",
              "      <td>LifeSquare</td>\n",
              "      <td>0.036609</td>\n",
              "    </tr>\n",
              "    <tr>\n",
              "      <th>7</th>\n",
              "      <td>Ecology_1</td>\n",
              "      <td>0.034293</td>\n",
              "    </tr>\n",
              "    <tr>\n",
              "      <th>6</th>\n",
              "      <td>HouseYear</td>\n",
              "      <td>0.031774</td>\n",
              "    </tr>\n",
              "    <tr>\n",
              "      <th>9</th>\n",
              "      <td>Social_2</td>\n",
              "      <td>0.029759</td>\n",
              "    </tr>\n",
              "    <tr>\n",
              "      <th>18</th>\n",
              "      <td>MedPriceByFloorYear</td>\n",
              "      <td>0.024487</td>\n",
              "    </tr>\n",
              "    <tr>\n",
              "      <th>8</th>\n",
              "      <td>Social_1</td>\n",
              "      <td>0.023491</td>\n",
              "    </tr>\n",
              "    <tr>\n",
              "      <th>5</th>\n",
              "      <td>HouseFloor</td>\n",
              "      <td>0.022285</td>\n",
              "    </tr>\n",
              "    <tr>\n",
              "      <th>0</th>\n",
              "      <td>Rooms</td>\n",
              "      <td>0.021045</td>\n",
              "    </tr>\n",
              "    <tr>\n",
              "      <th>4</th>\n",
              "      <td>Floor</td>\n",
              "      <td>0.020446</td>\n",
              "    </tr>\n",
              "    <tr>\n",
              "      <th>3</th>\n",
              "      <td>KitchenSquare</td>\n",
              "      <td>0.016321</td>\n",
              "    </tr>\n",
              "    <tr>\n",
              "      <th>12</th>\n",
              "      <td>Shops_1</td>\n",
              "      <td>0.014469</td>\n",
              "    </tr>\n",
              "    <tr>\n",
              "      <th>11</th>\n",
              "      <td>Helthcare_2</td>\n",
              "      <td>0.007648</td>\n",
              "    </tr>\n",
              "    <tr>\n",
              "      <th>14</th>\n",
              "      <td>HouseFloor_outlier</td>\n",
              "      <td>0.002853</td>\n",
              "    </tr>\n",
              "    <tr>\n",
              "      <th>13</th>\n",
              "      <td>Shops_2</td>\n",
              "      <td>0.001490</td>\n",
              "    </tr>\n",
              "    <tr>\n",
              "      <th>17</th>\n",
              "      <td>IsDistrictLarge</td>\n",
              "      <td>0.001352</td>\n",
              "    </tr>\n",
              "    <tr>\n",
              "      <th>15</th>\n",
              "      <td>LifeSquare_nan</td>\n",
              "      <td>0.001163</td>\n",
              "    </tr>\n",
              "  </tbody>\n",
              "</table>\n",
              "</div>"
            ]
          },
          "metadata": {
            "tags": []
          },
          "execution_count": 537
        }
      ]
    },
    {
      "cell_type": "markdown",
      "metadata": {
        "id": "I90_cDaWURVq"
      },
      "source": [
        "Работа с тестовым набором данных"
      ]
    },
    {
      "cell_type": "code",
      "metadata": {
        "execution": {
          "iopub.status.busy": "2021-07-19T20:26:08.762844Z",
          "iopub.execute_input": "2021-07-19T20:26:08.763193Z",
          "iopub.status.idle": "2021-07-19T20:26:08.769436Z",
          "shell.execute_reply.started": "2021-07-19T20:26:08.763161Z",
          "shell.execute_reply": "2021-07-19T20:26:08.768570Z"
        },
        "trusted": true,
        "id": "8dL_u-PMURVr",
        "outputId": "bc3b8f3b-0a31-401b-9704-cae539bbc0d0"
      },
      "source": [
        "test_df.shape"
      ],
      "execution_count": null,
      "outputs": [
        {
          "output_type": "execute_result",
          "data": {
            "text/plain": [
              "(5000, 19)"
            ]
          },
          "metadata": {
            "tags": []
          },
          "execution_count": 538
        }
      ]
    },
    {
      "cell_type": "code",
      "metadata": {
        "execution": {
          "iopub.status.busy": "2021-07-19T20:26:08.770795Z",
          "iopub.execute_input": "2021-07-19T20:26:08.771155Z",
          "iopub.status.idle": "2021-07-19T20:26:08.815934Z",
          "shell.execute_reply.started": "2021-07-19T20:26:08.771111Z",
          "shell.execute_reply": "2021-07-19T20:26:08.814605Z"
        },
        "trusted": true,
        "id": "f6da_ifNURVr",
        "outputId": "99324f43-5fa4-47e0-8c3d-47f2ae6635ba"
      },
      "source": [
        "test_df"
      ],
      "execution_count": null,
      "outputs": [
        {
          "output_type": "execute_result",
          "data": {
            "text/plain": [
              "      Rooms     Square  LifeSquare  KitchenSquare  Floor  HouseFloor  \\\n",
              "0       1.0  36.847630   19.094182            5.0      5         9.0   \n",
              "1       1.0  42.493907   42.568133           10.0      7        17.0   \n",
              "2       2.0  59.463678   47.463678            9.0     19        19.0   \n",
              "3       3.0  49.646030   33.893825            6.0      2         2.0   \n",
              "4       1.0  53.837056   47.837056            3.0      8        17.0   \n",
              "...     ...        ...         ...            ...    ...         ...   \n",
              "4995    2.0  43.177521   30.339945            5.0      5         5.0   \n",
              "4996    3.0  93.698122   94.521465           10.0     21        27.0   \n",
              "4997    1.0  33.656723   19.003259            5.0      2         5.0   \n",
              "4998    1.0  38.635155   20.976257            9.0      8        14.0   \n",
              "4999    2.0  67.122742   33.944344            6.0      9        17.0   \n",
              "\n",
              "      HouseYear  Ecology_1  Social_1  Social_2  Social_3  Helthcare_2  \\\n",
              "0          1970   0.036122        24      4378         0            1   \n",
              "1          2017   0.072158         2       629         1            0   \n",
              "2          1977   0.211401         9      1892         0            0   \n",
              "3          1965   0.014073         2       475         0            0   \n",
              "4          1977   0.309479        35      7715         4            0   \n",
              "...         ...        ...       ...       ...       ...          ...   \n",
              "4995       1962   0.069660        31      6119         4            1   \n",
              "4996       2018   0.060753        15      2787         2            0   \n",
              "4997       1966   0.038693        28      6533         1            2   \n",
              "4998       1970   0.089040        33      7976         5            0   \n",
              "4999       2009   0.194489        47      8004         3            3   \n",
              "\n",
              "      Shops_1  Shops_2  HouseFloor_outlier  LifeSquare_nan  DistrictSize  \\\n",
              "0           1        1                   0               0          76.0   \n",
              "1           0        0                   0               0         169.0   \n",
              "2           1        1                   0               1         609.0   \n",
              "3           0        1                   0               0         392.0   \n",
              "4           6        1                   0               1          68.0   \n",
              "...       ...      ...                 ...             ...           ...   \n",
              "4995        2        1                   1               0          59.0   \n",
              "4996        7        1                   0               0          26.0   \n",
              "4997        5        1                   0               0          57.0   \n",
              "4998       11        1                   0               0          42.0   \n",
              "4999        5        1                   0               0         119.0   \n",
              "\n",
              "      IsDistrictLarge  MedPriceByFloorYear  \n",
              "0                   0        188925.796517  \n",
              "1                   1        177755.781775  \n",
              "2                   1        174137.278013  \n",
              "3                   1        179505.786361  \n",
              "4                   0        192086.822606  \n",
              "...               ...                  ...  \n",
              "4995                0        188925.796517  \n",
              "4996                0        193054.222191  \n",
              "4997                0        179505.786361  \n",
              "4998                0        192086.822606  \n",
              "4999                1        229167.624266  \n",
              "\n",
              "[5000 rows x 19 columns]"
            ],
            "text/html": [
              "<div>\n",
              "<style scoped>\n",
              "    .dataframe tbody tr th:only-of-type {\n",
              "        vertical-align: middle;\n",
              "    }\n",
              "\n",
              "    .dataframe tbody tr th {\n",
              "        vertical-align: top;\n",
              "    }\n",
              "\n",
              "    .dataframe thead th {\n",
              "        text-align: right;\n",
              "    }\n",
              "</style>\n",
              "<table border=\"1\" class=\"dataframe\">\n",
              "  <thead>\n",
              "    <tr style=\"text-align: right;\">\n",
              "      <th></th>\n",
              "      <th>Rooms</th>\n",
              "      <th>Square</th>\n",
              "      <th>LifeSquare</th>\n",
              "      <th>KitchenSquare</th>\n",
              "      <th>Floor</th>\n",
              "      <th>HouseFloor</th>\n",
              "      <th>HouseYear</th>\n",
              "      <th>Ecology_1</th>\n",
              "      <th>Social_1</th>\n",
              "      <th>Social_2</th>\n",
              "      <th>Social_3</th>\n",
              "      <th>Helthcare_2</th>\n",
              "      <th>Shops_1</th>\n",
              "      <th>Shops_2</th>\n",
              "      <th>HouseFloor_outlier</th>\n",
              "      <th>LifeSquare_nan</th>\n",
              "      <th>DistrictSize</th>\n",
              "      <th>IsDistrictLarge</th>\n",
              "      <th>MedPriceByFloorYear</th>\n",
              "    </tr>\n",
              "  </thead>\n",
              "  <tbody>\n",
              "    <tr>\n",
              "      <th>0</th>\n",
              "      <td>1.0</td>\n",
              "      <td>36.847630</td>\n",
              "      <td>19.094182</td>\n",
              "      <td>5.0</td>\n",
              "      <td>5</td>\n",
              "      <td>9.0</td>\n",
              "      <td>1970</td>\n",
              "      <td>0.036122</td>\n",
              "      <td>24</td>\n",
              "      <td>4378</td>\n",
              "      <td>0</td>\n",
              "      <td>1</td>\n",
              "      <td>1</td>\n",
              "      <td>1</td>\n",
              "      <td>0</td>\n",
              "      <td>0</td>\n",
              "      <td>76.0</td>\n",
              "      <td>0</td>\n",
              "      <td>188925.796517</td>\n",
              "    </tr>\n",
              "    <tr>\n",
              "      <th>1</th>\n",
              "      <td>1.0</td>\n",
              "      <td>42.493907</td>\n",
              "      <td>42.568133</td>\n",
              "      <td>10.0</td>\n",
              "      <td>7</td>\n",
              "      <td>17.0</td>\n",
              "      <td>2017</td>\n",
              "      <td>0.072158</td>\n",
              "      <td>2</td>\n",
              "      <td>629</td>\n",
              "      <td>1</td>\n",
              "      <td>0</td>\n",
              "      <td>0</td>\n",
              "      <td>0</td>\n",
              "      <td>0</td>\n",
              "      <td>0</td>\n",
              "      <td>169.0</td>\n",
              "      <td>1</td>\n",
              "      <td>177755.781775</td>\n",
              "    </tr>\n",
              "    <tr>\n",
              "      <th>2</th>\n",
              "      <td>2.0</td>\n",
              "      <td>59.463678</td>\n",
              "      <td>47.463678</td>\n",
              "      <td>9.0</td>\n",
              "      <td>19</td>\n",
              "      <td>19.0</td>\n",
              "      <td>1977</td>\n",
              "      <td>0.211401</td>\n",
              "      <td>9</td>\n",
              "      <td>1892</td>\n",
              "      <td>0</td>\n",
              "      <td>0</td>\n",
              "      <td>1</td>\n",
              "      <td>1</td>\n",
              "      <td>0</td>\n",
              "      <td>1</td>\n",
              "      <td>609.0</td>\n",
              "      <td>1</td>\n",
              "      <td>174137.278013</td>\n",
              "    </tr>\n",
              "    <tr>\n",
              "      <th>3</th>\n",
              "      <td>3.0</td>\n",
              "      <td>49.646030</td>\n",
              "      <td>33.893825</td>\n",
              "      <td>6.0</td>\n",
              "      <td>2</td>\n",
              "      <td>2.0</td>\n",
              "      <td>1965</td>\n",
              "      <td>0.014073</td>\n",
              "      <td>2</td>\n",
              "      <td>475</td>\n",
              "      <td>0</td>\n",
              "      <td>0</td>\n",
              "      <td>0</td>\n",
              "      <td>1</td>\n",
              "      <td>0</td>\n",
              "      <td>0</td>\n",
              "      <td>392.0</td>\n",
              "      <td>1</td>\n",
              "      <td>179505.786361</td>\n",
              "    </tr>\n",
              "    <tr>\n",
              "      <th>4</th>\n",
              "      <td>1.0</td>\n",
              "      <td>53.837056</td>\n",
              "      <td>47.837056</td>\n",
              "      <td>3.0</td>\n",
              "      <td>8</td>\n",
              "      <td>17.0</td>\n",
              "      <td>1977</td>\n",
              "      <td>0.309479</td>\n",
              "      <td>35</td>\n",
              "      <td>7715</td>\n",
              "      <td>4</td>\n",
              "      <td>0</td>\n",
              "      <td>6</td>\n",
              "      <td>1</td>\n",
              "      <td>0</td>\n",
              "      <td>1</td>\n",
              "      <td>68.0</td>\n",
              "      <td>0</td>\n",
              "      <td>192086.822606</td>\n",
              "    </tr>\n",
              "    <tr>\n",
              "      <th>...</th>\n",
              "      <td>...</td>\n",
              "      <td>...</td>\n",
              "      <td>...</td>\n",
              "      <td>...</td>\n",
              "      <td>...</td>\n",
              "      <td>...</td>\n",
              "      <td>...</td>\n",
              "      <td>...</td>\n",
              "      <td>...</td>\n",
              "      <td>...</td>\n",
              "      <td>...</td>\n",
              "      <td>...</td>\n",
              "      <td>...</td>\n",
              "      <td>...</td>\n",
              "      <td>...</td>\n",
              "      <td>...</td>\n",
              "      <td>...</td>\n",
              "      <td>...</td>\n",
              "      <td>...</td>\n",
              "    </tr>\n",
              "    <tr>\n",
              "      <th>4995</th>\n",
              "      <td>2.0</td>\n",
              "      <td>43.177521</td>\n",
              "      <td>30.339945</td>\n",
              "      <td>5.0</td>\n",
              "      <td>5</td>\n",
              "      <td>5.0</td>\n",
              "      <td>1962</td>\n",
              "      <td>0.069660</td>\n",
              "      <td>31</td>\n",
              "      <td>6119</td>\n",
              "      <td>4</td>\n",
              "      <td>1</td>\n",
              "      <td>2</td>\n",
              "      <td>1</td>\n",
              "      <td>1</td>\n",
              "      <td>0</td>\n",
              "      <td>59.0</td>\n",
              "      <td>0</td>\n",
              "      <td>188925.796517</td>\n",
              "    </tr>\n",
              "    <tr>\n",
              "      <th>4996</th>\n",
              "      <td>3.0</td>\n",
              "      <td>93.698122</td>\n",
              "      <td>94.521465</td>\n",
              "      <td>10.0</td>\n",
              "      <td>21</td>\n",
              "      <td>27.0</td>\n",
              "      <td>2018</td>\n",
              "      <td>0.060753</td>\n",
              "      <td>15</td>\n",
              "      <td>2787</td>\n",
              "      <td>2</td>\n",
              "      <td>0</td>\n",
              "      <td>7</td>\n",
              "      <td>1</td>\n",
              "      <td>0</td>\n",
              "      <td>0</td>\n",
              "      <td>26.0</td>\n",
              "      <td>0</td>\n",
              "      <td>193054.222191</td>\n",
              "    </tr>\n",
              "    <tr>\n",
              "      <th>4997</th>\n",
              "      <td>1.0</td>\n",
              "      <td>33.656723</td>\n",
              "      <td>19.003259</td>\n",
              "      <td>5.0</td>\n",
              "      <td>2</td>\n",
              "      <td>5.0</td>\n",
              "      <td>1966</td>\n",
              "      <td>0.038693</td>\n",
              "      <td>28</td>\n",
              "      <td>6533</td>\n",
              "      <td>1</td>\n",
              "      <td>2</td>\n",
              "      <td>5</td>\n",
              "      <td>1</td>\n",
              "      <td>0</td>\n",
              "      <td>0</td>\n",
              "      <td>57.0</td>\n",
              "      <td>0</td>\n",
              "      <td>179505.786361</td>\n",
              "    </tr>\n",
              "    <tr>\n",
              "      <th>4998</th>\n",
              "      <td>1.0</td>\n",
              "      <td>38.635155</td>\n",
              "      <td>20.976257</td>\n",
              "      <td>9.0</td>\n",
              "      <td>8</td>\n",
              "      <td>14.0</td>\n",
              "      <td>1970</td>\n",
              "      <td>0.089040</td>\n",
              "      <td>33</td>\n",
              "      <td>7976</td>\n",
              "      <td>5</td>\n",
              "      <td>0</td>\n",
              "      <td>11</td>\n",
              "      <td>1</td>\n",
              "      <td>0</td>\n",
              "      <td>0</td>\n",
              "      <td>42.0</td>\n",
              "      <td>0</td>\n",
              "      <td>192086.822606</td>\n",
              "    </tr>\n",
              "    <tr>\n",
              "      <th>4999</th>\n",
              "      <td>2.0</td>\n",
              "      <td>67.122742</td>\n",
              "      <td>33.944344</td>\n",
              "      <td>6.0</td>\n",
              "      <td>9</td>\n",
              "      <td>17.0</td>\n",
              "      <td>2009</td>\n",
              "      <td>0.194489</td>\n",
              "      <td>47</td>\n",
              "      <td>8004</td>\n",
              "      <td>3</td>\n",
              "      <td>3</td>\n",
              "      <td>5</td>\n",
              "      <td>1</td>\n",
              "      <td>0</td>\n",
              "      <td>0</td>\n",
              "      <td>119.0</td>\n",
              "      <td>1</td>\n",
              "      <td>229167.624266</td>\n",
              "    </tr>\n",
              "  </tbody>\n",
              "</table>\n",
              "<p>5000 rows × 19 columns</p>\n",
              "</div>"
            ]
          },
          "metadata": {
            "tags": []
          },
          "execution_count": 539
        }
      ]
    },
    {
      "cell_type": "code",
      "metadata": {
        "execution": {
          "iopub.status.busy": "2021-07-19T20:26:08.817878Z",
          "iopub.execute_input": "2021-07-19T20:26:08.818291Z",
          "iopub.status.idle": "2021-07-19T20:26:08.835522Z",
          "shell.execute_reply.started": "2021-07-19T20:26:08.818249Z",
          "shell.execute_reply": "2021-07-19T20:26:08.834537Z"
        },
        "trusted": true,
        "id": "hVUnfz3QURVs",
        "outputId": "53a09d80-3f16-4b26-99e9-e011247a4f52"
      },
      "source": [
        "submit = pd.read_csv('/kaggle/input/real-estate-price-prediction-moscow/sample_submission.csv')\n",
        "submit.head()"
      ],
      "execution_count": null,
      "outputs": [
        {
          "output_type": "execute_result",
          "data": {
            "text/plain": [
              "     Id     Price\n",
              "0  4567  200000.0\n",
              "1  5925  200000.0\n",
              "2   960  200000.0\n",
              "3  3848  200000.0\n",
              "4   746  200000.0"
            ],
            "text/html": [
              "<div>\n",
              "<style scoped>\n",
              "    .dataframe tbody tr th:only-of-type {\n",
              "        vertical-align: middle;\n",
              "    }\n",
              "\n",
              "    .dataframe tbody tr th {\n",
              "        vertical-align: top;\n",
              "    }\n",
              "\n",
              "    .dataframe thead th {\n",
              "        text-align: right;\n",
              "    }\n",
              "</style>\n",
              "<table border=\"1\" class=\"dataframe\">\n",
              "  <thead>\n",
              "    <tr style=\"text-align: right;\">\n",
              "      <th></th>\n",
              "      <th>Id</th>\n",
              "      <th>Price</th>\n",
              "    </tr>\n",
              "  </thead>\n",
              "  <tbody>\n",
              "    <tr>\n",
              "      <th>0</th>\n",
              "      <td>4567</td>\n",
              "      <td>200000.0</td>\n",
              "    </tr>\n",
              "    <tr>\n",
              "      <th>1</th>\n",
              "      <td>5925</td>\n",
              "      <td>200000.0</td>\n",
              "    </tr>\n",
              "    <tr>\n",
              "      <th>2</th>\n",
              "      <td>960</td>\n",
              "      <td>200000.0</td>\n",
              "    </tr>\n",
              "    <tr>\n",
              "      <th>3</th>\n",
              "      <td>3848</td>\n",
              "      <td>200000.0</td>\n",
              "    </tr>\n",
              "    <tr>\n",
              "      <th>4</th>\n",
              "      <td>746</td>\n",
              "      <td>200000.0</td>\n",
              "    </tr>\n",
              "  </tbody>\n",
              "</table>\n",
              "</div>"
            ]
          },
          "metadata": {
            "tags": []
          },
          "execution_count": 540
        }
      ]
    },
    {
      "cell_type": "code",
      "metadata": {
        "execution": {
          "iopub.status.busy": "2021-07-19T20:26:08.838110Z",
          "iopub.execute_input": "2021-07-19T20:26:08.838742Z",
          "iopub.status.idle": "2021-07-19T20:26:08.979220Z",
          "shell.execute_reply.started": "2021-07-19T20:26:08.838697Z",
          "shell.execute_reply": "2021-07-19T20:26:08.978096Z"
        },
        "trusted": true,
        "id": "9_nEpmeZURVt",
        "outputId": "547bb074-35ac-4aab-e8d6-22ac0a245476"
      },
      "source": [
        "predictions = rf_model.predict(test_df)\n",
        "predictions"
      ],
      "execution_count": null,
      "outputs": [
        {
          "output_type": "execute_result",
          "data": {
            "text/plain": [
              "array([153226.10056563, 122642.06101512, 144633.92360047, ...,\n",
              "       145279.30601605, 194684.24787566, 283830.43080348])"
            ]
          },
          "metadata": {
            "tags": []
          },
          "execution_count": 541
        }
      ]
    },
    {
      "cell_type": "code",
      "metadata": {
        "execution": {
          "iopub.status.busy": "2021-07-19T20:26:08.980838Z",
          "iopub.execute_input": "2021-07-19T20:26:08.981492Z",
          "iopub.status.idle": "2021-07-19T20:26:08.995443Z",
          "shell.execute_reply.started": "2021-07-19T20:26:08.981438Z",
          "shell.execute_reply": "2021-07-19T20:26:08.994475Z"
        },
        "trusted": true,
        "id": "q8IZi4UBURVu",
        "outputId": "23018578-6a2d-4804-86ac-7726fc96c9fb"
      },
      "source": [
        "submit['Price'] = predictions\n",
        "submit.head()"
      ],
      "execution_count": null,
      "outputs": [
        {
          "output_type": "execute_result",
          "data": {
            "text/plain": [
              "     Id          Price\n",
              "0  4567  153226.100566\n",
              "1  5925  122642.061015\n",
              "2   960  144633.923600\n",
              "3  3848  120678.047216\n",
              "4   746  231035.480600"
            ],
            "text/html": [
              "<div>\n",
              "<style scoped>\n",
              "    .dataframe tbody tr th:only-of-type {\n",
              "        vertical-align: middle;\n",
              "    }\n",
              "\n",
              "    .dataframe tbody tr th {\n",
              "        vertical-align: top;\n",
              "    }\n",
              "\n",
              "    .dataframe thead th {\n",
              "        text-align: right;\n",
              "    }\n",
              "</style>\n",
              "<table border=\"1\" class=\"dataframe\">\n",
              "  <thead>\n",
              "    <tr style=\"text-align: right;\">\n",
              "      <th></th>\n",
              "      <th>Id</th>\n",
              "      <th>Price</th>\n",
              "    </tr>\n",
              "  </thead>\n",
              "  <tbody>\n",
              "    <tr>\n",
              "      <th>0</th>\n",
              "      <td>4567</td>\n",
              "      <td>153226.100566</td>\n",
              "    </tr>\n",
              "    <tr>\n",
              "      <th>1</th>\n",
              "      <td>5925</td>\n",
              "      <td>122642.061015</td>\n",
              "    </tr>\n",
              "    <tr>\n",
              "      <th>2</th>\n",
              "      <td>960</td>\n",
              "      <td>144633.923600</td>\n",
              "    </tr>\n",
              "    <tr>\n",
              "      <th>3</th>\n",
              "      <td>3848</td>\n",
              "      <td>120678.047216</td>\n",
              "    </tr>\n",
              "    <tr>\n",
              "      <th>4</th>\n",
              "      <td>746</td>\n",
              "      <td>231035.480600</td>\n",
              "    </tr>\n",
              "  </tbody>\n",
              "</table>\n",
              "</div>"
            ]
          },
          "metadata": {
            "tags": []
          },
          "execution_count": 542
        }
      ]
    },
    {
      "cell_type": "code",
      "metadata": {
        "execution": {
          "iopub.status.busy": "2021-07-19T20:26:08.996630Z",
          "iopub.execute_input": "2021-07-19T20:26:08.996907Z",
          "iopub.status.idle": "2021-07-19T20:26:09.025514Z",
          "shell.execute_reply.started": "2021-07-19T20:26:08.996881Z",
          "shell.execute_reply": "2021-07-19T20:26:09.024336Z"
        },
        "trusted": true,
        "id": "XvHJvAHPURVu"
      },
      "source": [
        "submit.to_csv('rf_submit.csv', index=False)"
      ],
      "execution_count": null,
      "outputs": []
    }
  ]
}